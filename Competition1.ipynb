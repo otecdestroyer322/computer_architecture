{
 "cells": [
  {
   "cell_type": "code",
   "execution_count": 1,
   "metadata": {
    "collapsed": false,
    "deletable": true,
    "editable": true
   },
   "outputs": [
    {
     "name": "stderr",
     "output_type": "stream",
     "text": [
      "/home/stepan/.local/lib/python2.7/site-packages/sklearn/cross_validation.py:44: DeprecationWarning: This module was deprecated in version 0.18 in favor of the model_selection module into which all the refactored classes and functions are moved. Also note that the interface of the new CV iterators are different from that of this module. This module will be removed in 0.20.\n",
      "  \"This module will be removed in 0.20.\", DeprecationWarning)\n"
     ]
    }
   ],
   "source": [
    "import pandas as pd\n",
    "import numpy as np\n",
    "from sklearn import linear_model, metrics, cross_validation\n",
    "\n",
    "df = pd.read_csv(\"data/train.csv\")\n",
    "\n",
    "    \n",
    "X_matrix = []\n",
    "y_vector = []\n",
    "\n",
    "for row in df.values:\n",
    "    X_matrix.append(row[1:785])\n",
    "    y_vector.append(row[:1])\n",
    "   \n",
    "X_matrix = np.array(X_matrix)\n",
    "y = np.array(y_vector)\n",
    "\n",
    "X = np.zeros((len(X_matrix), len(X_matrix[0])))\n",
    "\n",
    "#means = np.mean(X_matrix, axis=1)\n",
    "#stds = np.std(X_matrix, axis=1)\n",
    "#mean = np.mean(means, axis=0)\n",
    "#std = np.mean(stds, axis=0)\n",
    "#print mean, std    \n"
   ]
  },
  {
   "cell_type": "code",
   "execution_count": 2,
   "metadata": {
    "collapsed": false,
    "deletable": true,
    "editable": true
   },
   "outputs": [],
   "source": [
    "minimums = list()\n",
    "maximums = list()\n",
    "\n",
    "for i in np.arange(0, len(X_matrix)):\n",
    "    minimums.append(min(X_matrix[i]))\n",
    "    maximums.append(max(X_matrix[i]))\n",
    "    \n",
    "maxX = max(maximums)\n",
    "minX = min(minimums)"
   ]
  },
  {
   "cell_type": "code",
   "execution_count": 3,
   "metadata": {
    "collapsed": false,
    "deletable": true,
    "editable": true
   },
   "outputs": [
    {
     "name": "stdout",
     "output_type": "stream",
     "text": [
      "[ 1.          0.          0.          0.          0.          0.          0.\n",
      "  0.          0.          0.          0.          0.          0.          0.\n",
      "  0.          0.          0.          0.          0.          0.          0.\n",
      "  0.          0.          0.          0.          0.          0.          0.\n",
      "  0.          0.          0.          0.          0.          0.          0.\n",
      "  0.          0.          0.          0.          0.          0.          0.\n",
      "  0.          0.          0.          0.          0.          0.          0.\n",
      "  0.          0.          0.          0.          0.          0.          0.\n",
      "  0.          0.          0.          0.          0.          0.          0.\n",
      "  0.          0.          0.          0.          0.          0.          0.\n",
      "  0.          0.          0.          0.          0.          0.          0.\n",
      "  0.          0.          0.          0.          0.          0.          0.\n",
      "  0.          0.          0.          0.          0.          0.          0.\n",
      "  0.          0.          0.          0.          0.          0.          0.\n",
      "  0.          0.          0.          0.          0.          0.          0.\n",
      "  0.          0.          0.          0.          0.          0.          0.\n",
      "  0.          0.          0.          0.          0.          0.          0.\n",
      "  0.          0.          0.          0.          0.          0.          0.\n",
      "  0.          0.          0.          0.          0.          0.          0.\n",
      "  0.7372549   1.          0.36862745  0.          0.          0.          0.\n",
      "  0.          0.          0.          0.          0.          0.          0.\n",
      "  0.          0.          0.          0.          0.          0.          0.\n",
      "  0.          0.          0.          0.          0.          0.\n",
      "  0.74901961  0.98039216  0.99215686  0.36470588  0.          0.          0.\n",
      "  0.          0.          0.          0.          0.          0.          0.\n",
      "  0.          0.          0.          0.          0.          0.          0.\n",
      "  0.          0.          0.          0.          0.          0.\n",
      "  0.48235294  0.97254902  0.99215686  0.65490196  0.03921569  0.          0.\n",
      "  0.          0.          0.          0.          0.          0.          0.\n",
      "  0.          0.          0.          0.          0.          0.          0.\n",
      "  0.          0.          0.          0.          0.          0.\n",
      "  0.31372549  0.96862745  0.99215686  0.81568627  0.05098039  0.          0.\n",
      "  0.          0.          0.          0.          0.          0.          0.\n",
      "  0.          0.          0.          0.          0.          0.          0.\n",
      "  0.          0.          0.          0.          0.          0.\n",
      "  0.11372549  0.81176471  0.99215686  0.92156863  0.30196078  0.          0.\n",
      "  0.          0.          0.          0.          0.          0.          0.\n",
      "  0.          0.          0.          0.          0.          0.          0.\n",
      "  0.          0.          0.          0.          0.          0.\n",
      "  0.21176471  0.81960784  0.99215686  0.99215686  0.34509804  0.          0.\n",
      "  0.          0.          0.          0.          0.          0.          0.\n",
      "  0.          0.          0.          0.          0.          0.          0.\n",
      "  0.          0.          0.          0.          0.          0.\n",
      "  0.36470588  0.99607843  0.99215686  0.93333333  0.66666667  0.06666667\n",
      "  0.          0.          0.          0.          0.          0.          0.\n",
      "  0.          0.          0.          0.          0.          0.          0.\n",
      "  0.          0.          0.          0.          0.          0.          0.\n",
      "  0.09019608  0.82352941  0.99607843  0.99215686  0.62352941  0.          0.\n",
      "  0.          0.          0.          0.          0.          0.          0.\n",
      "  0.          0.          0.          0.          0.          0.          0.\n",
      "  0.          0.          0.          0.          0.          0.          0.0627451\n",
      "  0.81960784  0.99215686  0.99607843  0.94117647  0.31764706  0.          0.\n",
      "  0.          0.          0.          0.          0.          0.          0.\n",
      "  0.          0.          0.          0.          0.          0.          0.\n",
      "  0.          0.          0.          0.          0.          0.\n",
      "  0.10588235  0.99215686  0.99215686  0.99607843  0.05098039  0.          0.\n",
      "  0.          0.          0.          0.          0.          0.          0.\n",
      "  0.          0.          0.          0.          0.          0.          0.\n",
      "  0.          0.          0.          0.          0.          0.\n",
      "  0.07843137  0.80784314  0.99607843  0.99607843  0.77647059  0.02745098\n",
      "  0.          0.          0.          0.          0.          0.          0.\n",
      "  0.          0.          0.          0.          0.          0.          0.\n",
      "  0.          0.          0.          0.          0.          0.          0.\n",
      "  0.          0.65882353  0.99215686  0.99215686  0.76862745  0.02745098\n",
      "  0.          0.          0.          0.          0.          0.          0.\n",
      "  0.          0.          0.          0.          0.          0.          0.\n",
      "  0.          0.          0.          0.          0.          0.          0.\n",
      "  0.          0.07843137  0.79607843  0.99215686  0.97254902  0.29803922\n",
      "  0.          0.          0.          0.          0.          0.          0.\n",
      "  0.          0.          0.          0.          0.          0.          0.\n",
      "  0.          0.          0.          0.          0.          0.          0.\n",
      "  0.          0.08627451  0.7372549   0.99215686  0.96078431  0.36470588\n",
      "  0.          0.          0.          0.          0.          0.          0.\n",
      "  0.          0.          0.          0.          0.          0.          0.\n",
      "  0.          0.          0.          0.          0.          0.          0.\n",
      "  0.          0.          0.40392157  0.99215686  0.99215686  0.74901961\n",
      "  0.          0.          0.          0.          0.          0.          0.\n",
      "  0.          0.          0.          0.          0.          0.          0.\n",
      "  0.          0.          0.          0.          0.          0.          0.\n",
      "  0.          0.          0.34901961  0.94117647  0.99215686  0.76470588\n",
      "  0.09803922  0.          0.          0.          0.          0.          0.\n",
      "  0.          0.          0.          0.          0.          0.          0.\n",
      "  0.          0.          0.          0.          0.          0.          0.\n",
      "  0.          0.          0.05882353  0.8627451   0.99215686  0.99215686\n",
      "  0.31372549  0.          0.          0.          0.          0.          0.\n",
      "  0.          0.          0.          0.          0.          0.          0.\n",
      "  0.          0.          0.          0.          0.          0.          0.\n",
      "  0.          0.          0.          0.36862745  0.99215686  0.99215686\n",
      "  0.99215686  0.36862745  0.          0.          0.          0.          0.\n",
      "  0.          0.          0.          0.          0.          0.          0.\n",
      "  0.          0.          0.          0.          0.          0.          0.\n",
      "  0.          0.          0.          0.          0.34901961  0.98431373\n",
      "  0.99215686  0.98039216  0.51372549  0.          0.          0.          0.\n",
      "  0.          0.          0.          0.          0.          0.          0.\n",
      "  0.          0.          0.          0.          0.          0.          0.\n",
      "  0.          0.          0.          0.          0.          0.\n",
      "  0.83921569  0.85490196  0.37254902  0.          0.          0.          0.\n",
      "  0.          0.          0.          0.          0.          0.          0.\n",
      "  0.          0.          0.          0.          0.          0.          0.\n",
      "  0.          0.          0.          0.          0.          0.          0.\n",
      "  0.          0.          0.          0.          0.          0.          0.\n",
      "  0.          0.          0.          0.          0.          0.          0.\n",
      "  0.          0.          0.          0.          0.          0.          0.\n",
      "  0.          0.          0.          0.          0.          0.          0.\n",
      "  0.          0.          0.          0.          0.          0.          0.\n",
      "  0.          0.          0.          0.          0.          0.          0.\n",
      "  0.          0.          0.          0.          0.          0.          0.\n",
      "  0.          0.          0.          0.          0.          0.          0.\n",
      "  0.          0.          0.          0.          0.          0.          0.\n",
      "  0.          0.          0.          0.          0.          0.          0.\n",
      "  0.          0.          0.          0.          0.          0.          0.\n",
      "  0.          0.          0.          0.          0.          0.          0.\n",
      "  0.          0.          0.          0.          0.          0.          0.\n",
      "  0.          0.          0.          0.          0.          0.          0.\n",
      "  0.          0.          0.          0.          0.          0.        ]\n"
     ]
    }
   ],
   "source": [
    "for i in np.arange(0, len(X)):\n",
    " for j in np.arange(0, len(X[i])):\n",
    "    X[i][j] = float(X_matrix[i][j] - minX) / (maxX - minX)\n",
    "\n",
    "column = np.ones((1, len(X)))\n",
    "column = np.reshape(column, (len(X), 1))\n",
    "X = np.hstack((column, X))    \n",
    "\n",
    "print X[0]"
   ]
  },
  {
   "cell_type": "code",
   "execution_count": 7,
   "metadata": {
    "collapsed": false,
    "deletable": true,
    "editable": true
   },
   "outputs": [],
   "source": [
    "train_data, test_data, train_labels, test_labels = cross_validation.train_test_split(X, y, test_size=0.3)\n",
    "#разбили наши данные на обучающие и тестовые (7 к 3)"
   ]
  },
  {
   "cell_type": "code",
   "execution_count": 8,
   "metadata": {
    "collapsed": false,
    "deletable": true,
    "editable": true
   },
   "outputs": [
    {
     "name": "stdout",
     "output_type": "stream",
     "text": [
      "42000\n"
     ]
    }
   ],
   "source": [
    "print len(X)\n",
    "\n",
    "def getPredict(probabilities):\n",
    "    length = len(probabilities[0])\n",
    "    new_probs = list()\n",
    "    \n",
    "    for j in np.arange(0, length):\n",
    "        max_proba = 0\n",
    "        label = 0\n",
    "        proba = list()\n",
    "        for i in range(0, 10):\n",
    "            proba.append(probabilities[i][j][1])\n",
    "        new_probs.append(proba)\n",
    "    \n",
    "    result_predict = list() #результат работы 10 регрессоров (предсказание)\n",
    "    for j in np.arange(0, length):\n",
    "        max_proba = 0\n",
    "        label = 0\n",
    "        for i in range(0, 10):\n",
    "            if new_probs[j][i] >= max_proba:\n",
    "                max_proba = new_probs[j][i]\n",
    "                label = i\n",
    "        result_predict.append(label)\n",
    "    return result_predict"
   ]
  },
  {
   "cell_type": "code",
   "execution_count": 41,
   "metadata": {
    "collapsed": false,
    "deletable": true,
    "editable": true
   },
   "outputs": [],
   "source": [
    "#учим 10 логистических регрессоров выявлять цифры от 0 до 9\n",
    "\n",
    "#загрузим тестовые данные \n",
    "#test_data_all = pd.read_csv(\"trainingandtestdata/test.csv\")\n",
    "log_regressors = list()#список регрессоров\n",
    "\n",
    "def getProbabilitiesWithTrain( log_regressors, train_data, test_data, train_labels, test_labels):\n",
    "    probs = list() #список списков вероятностей для каждого регрессора\n",
    "    accuracy = list() #список результатов точности для каждого регрессор\n",
    "    for j in range(0, 10):\n",
    "        train_labels_j = np.zeros((len(train_labels), 1))\n",
    "        test_labels_j = np.zeros((len(test_labels), 1))\n",
    "        \n",
    "        for i in np.arange(0, len(train_labels)):\n",
    "            if train_labels[i][0] == j:\n",
    "                train_labels_j[i] = [1]\n",
    "            else:\n",
    "                train_labels_j[i] = [0]\n",
    "        \n",
    "        for i in np.arange(0, len(test_labels)):\n",
    "            if test_labels[i][0] == j:\n",
    "                test_labels_j[i] = [1]\n",
    "            else:\n",
    "                test_labels_j[i] = [0]\n",
    "                \n",
    "        log_regressor = linear_model.LogisticRegression(random_state=1, penalty='l1', max_iter=10000)\n",
    "        log_regressor.fit(train_data, train_labels_j)\n",
    "        predict = log_regressor.predict(test_data)\n",
    "        predict_proba = log_regressor.predict_proba(test_data)\n",
    "        probs.append(predict_proba)\n",
    "        log_regressors.append(log_regressor)\n",
    "        accuracy.append(metrics.accuracy_score(test_labels_j, predict))\n",
    "    return probs\n",
    "\n",
    "\n",
    "def getProbabilities( log_regressors, test_data):\n",
    "    probs = list() #список списков вероятностей для каждого регрессора\n",
    "    accuracy = list() #список результатов точности для каждого регрессор\n",
    "    for j in range(0, 10):\n",
    "        predict = log_regressors[j].predict(test_data)\n",
    "        predict_proba = log_regressors[j].predict_proba(test_data)\n",
    "        probs.append(predict_proba)\n",
    "    return probs\n",
    "#print accuracy\n",
    "#rint probs[:2]"
   ]
  },
  {
   "cell_type": "code",
   "execution_count": 42,
   "metadata": {
    "collapsed": false,
    "deletable": true,
    "editable": true
   },
   "outputs": [
    {
     "name": "stdout",
     "output_type": "stream",
     "text": [
      "[array([[  9.99927699e-01,   7.23012512e-05],\n",
      "       [  9.99998967e-01,   1.03341619e-06],\n",
      "       [  9.99459134e-01,   5.40866469e-04],\n",
      "       ..., \n",
      "       [  9.99999980e-01,   1.99192318e-08],\n",
      "       [  9.99999492e-01,   5.08307318e-07],\n",
      "       [  9.99999173e-01,   8.26723734e-07]]), array([[  9.99998780e-01,   1.22015249e-06],\n",
      "       [  9.81367165e-02,   9.01863283e-01],\n",
      "       [  9.99998626e-01,   1.37397113e-06],\n",
      "       ..., \n",
      "       [  9.99999864e-01,   1.35900621e-07],\n",
      "       [  2.51452489e-01,   7.48547511e-01],\n",
      "       [  9.99999772e-01,   2.28391200e-07]]), array([[  9.99940009e-01,   5.99909344e-05],\n",
      "       [  9.98406846e-01,   1.59315441e-03],\n",
      "       [  9.99995770e-01,   4.23044446e-06],\n",
      "       ..., \n",
      "       [  9.99889680e-01,   1.10319815e-04],\n",
      "       [  8.24746354e-01,   1.75253646e-01],\n",
      "       [  9.98341377e-01,   1.65862301e-03]])]\n",
      "0.911984126984\n"
     ]
    }
   ],
   "source": [
    "#получили список вероятностей для каждого регрессора - probs. посмотрим на него - будем принимать решение,\n",
    "#исходя из максимальной вероятности на каждом объекте\n",
    "probs = getProbabilitiesWithTrain(log_regressors, train_data, test_data, train_labels, test_labels)\n",
    "print probs[:3]\n",
    "\n",
    "accuracy = metrics.accuracy_score(test_labels, getPredict(probs)) #\n",
    "print accuracy\n",
    "#print new_probs[:5]\n",
    "#print result_predict[:10]\n",
    "#print test_labels[:10]\n",
    "\n",
    "#print accuracy\n",
    "\n",
    "\n",
    "#видим, что результат довольно неплохой: ошибка около 9%\n"
   ]
  },
  {
   "cell_type": "code",
   "execution_count": 43,
   "metadata": {
    "collapsed": false,
    "deletable": true,
    "editable": true
   },
   "outputs": [],
   "source": [
    "test_data_all = pd.read_csv(\"data/test.csv\") #загрузим тестовую выборку для отправки результата первой модели"
   ]
  },
  {
   "cell_type": "code",
   "execution_count": 44,
   "metadata": {
    "collapsed": false,
    "deletable": true,
    "editable": true
   },
   "outputs": [],
   "source": [
    "X_matrix = []\n",
    "\n",
    "for row in test_data_all.values:\n",
    "    X_matrix.append(row[0:784])\n",
    "   \n",
    "X_matrix = np.array(X_matrix)\n",
    "\n",
    "X = np.zeros((len(X_matrix), len(X_matrix[0])))\n"
   ]
  },
  {
   "cell_type": "code",
   "execution_count": 45,
   "metadata": {
    "collapsed": false,
    "deletable": true,
    "editable": true
   },
   "outputs": [
    {
     "name": "stdout",
     "output_type": "stream",
     "text": [
      "[ 1.          0.          0.          0.          0.          0.          0.\n",
      "  0.          0.          0.          0.          0.          0.          0.\n",
      "  0.          0.          0.          0.          0.          0.          0.\n",
      "  0.          0.          0.          0.          0.          0.          0.\n",
      "  0.          0.          0.          0.          0.          0.          0.\n",
      "  0.          0.          0.          0.          0.          0.          0.\n",
      "  0.          0.          0.          0.          0.          0.          0.\n",
      "  0.          0.          0.          0.          0.          0.          0.\n",
      "  0.          0.          0.          0.          0.          0.          0.\n",
      "  0.          0.          0.          0.          0.          0.          0.\n",
      "  0.          0.          0.          0.          0.          0.          0.\n",
      "  0.          0.          0.          0.          0.          0.          0.\n",
      "  0.          0.          0.          0.          0.          0.          0.\n",
      "  0.          0.          0.          0.          0.          0.          0.\n",
      "  0.          0.          0.          0.          0.          0.          0.\n",
      "  0.          0.          0.          0.          0.          0.          0.\n",
      "  0.          0.          0.          0.          0.          0.          0.\n",
      "  0.          0.          0.          0.          0.03921569  0.06666667\n",
      "  0.06666667  0.06666667  0.06666667  0.31764706  0.70588235  0.70588235\n",
      "  0.1372549   0.          0.          0.          0.          0.          0.\n",
      "  0.          0.          0.          0.          0.          0.          0.\n",
      "  0.          0.          0.          0.          0.          0.\n",
      "  0.54509804  0.99215686  0.99215686  0.99215686  0.99215686  0.99215686\n",
      "  0.99215686  0.99215686  0.18823529  0.          0.          0.          0.\n",
      "  0.          0.          0.          0.          0.          0.          0.\n",
      "  0.          0.          0.          0.          0.          0.          0.\n",
      "  0.23529412  0.89411765  0.99215686  0.99215686  0.99215686  0.99215686\n",
      "  0.99215686  0.99215686  0.99215686  0.81176471  0.77254902  0.18039216\n",
      "  0.          0.          0.          0.          0.          0.          0.\n",
      "  0.          0.          0.          0.          0.          0.          0.\n",
      "  0.          0.          0.83529412  0.99215686  0.99215686  0.99215686\n",
      "  0.99215686  0.99215686  0.99215686  0.99215686  0.99215686  0.99215686\n",
      "  0.99215686  0.8745098   0.20392157  0.          0.          0.          0.\n",
      "  0.          0.          0.          0.          0.          0.          0.\n",
      "  0.          0.          0.          0.          0.25882353  0.90588235\n",
      "  0.99215686  0.99215686  0.99215686  0.42352941  0.15686275  0.15686275\n",
      "  0.45098039  0.95686275  0.99215686  0.99215686  0.5254902   0.01176471\n",
      "  0.          0.          0.          0.          0.          0.          0.\n",
      "  0.          0.          0.          0.          0.          0.          0.\n",
      "  0.          0.24705882  0.44705882  0.44705882  0.44705882  0.14509804\n",
      "  0.          0.          0.          0.80392157  0.99215686  0.99215686\n",
      "  0.99215686  0.05882353  0.          0.          0.          0.          0.\n",
      "  0.          0.          0.          0.          0.          0.          0.\n",
      "  0.          0.          0.          0.          0.          0.          0.\n",
      "  0.          0.          0.          0.          0.22352941  0.99215686\n",
      "  0.99215686  0.99215686  0.05882353  0.          0.          0.          0.\n",
      "  0.          0.          0.          0.          0.          0.          0.\n",
      "  0.          0.          0.          0.          0.          0.          0.\n",
      "  0.          0.          0.          0.          0.          0.16470588\n",
      "  0.99215686  0.99215686  0.99215686  0.05882353  0.          0.          0.\n",
      "  0.          0.          0.          0.          0.          0.          0.\n",
      "  0.          0.          0.          0.          0.          0.          0.\n",
      "  0.          0.          0.          0.          0.          0.\n",
      "  0.37254902  0.99215686  0.99215686  0.99215686  0.05882353  0.          0.\n",
      "  0.          0.          0.          0.          0.          0.          0.\n",
      "  0.          0.          0.          0.          0.          0.          0.\n",
      "  0.          0.          0.          0.          0.          0.          0.\n",
      "  0.80392157  0.99215686  0.99215686  0.99215686  0.05882353  0.          0.\n",
      "  0.          0.          0.          0.          0.          0.          0.\n",
      "  0.          0.          0.          0.          0.          0.          0.\n",
      "  0.          0.23921569  0.38823529  0.37647059  0.          0.\n",
      "  0.17647059  0.87843137  0.99215686  0.99215686  0.76470588  0.03921569\n",
      "  0.          0.          0.          0.          0.          0.          0.\n",
      "  0.          0.          0.          0.          0.04313725  0.09803922\n",
      "  0.41176471  0.3254902   0.74117647  0.74117647  0.89411765  0.99215686\n",
      "  0.98431373  0.74117647  0.74117647  0.85490196  0.99215686  0.99215686\n",
      "  0.82352941  0.10588235  0.          0.          0.          0.          0.\n",
      "  0.          0.          0.          0.          0.          0.16470588\n",
      "  0.45490196  0.67843137  0.99215686  0.99215686  0.99215686  0.99215686\n",
      "  0.99215686  0.99215686  0.99215686  0.99215686  0.99215686  0.99215686\n",
      "  0.99215686  0.99215686  0.99215686  0.86666667  0.45490196  0.02745098\n",
      "  0.          0.          0.          0.          0.          0.          0.\n",
      "  0.          0.          0.4627451   0.99215686  0.99215686  0.99215686\n",
      "  0.99215686  0.96078431  0.83137255  0.87058824  0.99215686  0.99215686\n",
      "  0.99215686  0.99215686  0.99215686  0.99215686  0.99215686  0.99215686\n",
      "  0.99215686  0.99215686  0.62745098  0.05882353  0.          0.          0.\n",
      "  0.          0.          0.          0.          0.          0.99607843\n",
      "  0.99215686  0.99215686  0.99215686  0.74117647  0.38823529  0.          0.1254902\n",
      "  0.79215686  0.99215686  0.99215686  0.99215686  0.94117647  0.47843137\n",
      "  0.47843137  0.74509804  0.99215686  0.99215686  0.99215686  0.68235294\n",
      "  0.          0.          0.          0.          0.          0.          0.\n",
      "  0.          1.          0.99215686  0.99215686  0.99215686  0.93333333\n",
      "  0.87058824  0.87058824  0.87058824  0.94509804  0.99215686  0.99215686\n",
      "  0.90196078  0.2745098   0.          0.          0.06666667  0.68627451\n",
      "  0.89803922  0.99215686  0.99215686  0.          0.          0.          0.\n",
      "  0.          0.          0.          0.          0.61960784  0.99215686\n",
      "  0.99215686  0.99215686  0.99215686  0.99215686  0.99215686  0.99215686\n",
      "  0.99215686  0.80392157  0.41568627  0.25490196  0.          0.          0.\n",
      "  0.          0.          0.24313725  0.95686275  0.61568627  0.          0.\n",
      "  0.          0.          0.          0.          0.          0.\n",
      "  0.02352941  0.10196078  0.70196078  0.70196078  0.70196078  0.70196078\n",
      "  0.70196078  0.11764706  0.05882353  0.03921569  0.          0.          0.\n",
      "  0.          0.          0.          0.          0.          0.05490196\n",
      "  0.02352941  0.          0.          0.          0.          0.          0.\n",
      "  0.          0.          0.          0.          0.          0.          0.\n",
      "  0.          0.          0.          0.          0.          0.          0.\n",
      "  0.          0.          0.          0.          0.          0.          0.\n",
      "  0.          0.          0.          0.          0.          0.          0.\n",
      "  0.          0.          0.          0.          0.          0.          0.\n",
      "  0.          0.          0.          0.          0.          0.          0.\n",
      "  0.          0.          0.          0.          0.          0.          0.\n",
      "  0.          0.          0.          0.          0.          0.          0.\n",
      "  0.          0.          0.          0.          0.          0.          0.\n",
      "  0.          0.          0.          0.          0.          0.          0.\n",
      "  0.          0.          0.          0.          0.          0.          0.\n",
      "  0.          0.          0.          0.          0.          0.          0.\n",
      "  0.          0.          0.          0.          0.          0.          0.\n",
      "  0.          0.          0.          0.          0.          0.          0.\n",
      "  0.          0.          0.          0.          0.          0.          0.\n",
      "  0.          0.          0.          0.          0.          0.          0.\n",
      "  0.          0.          0.          0.          0.          0.          0.\n",
      "  0.          0.          0.          0.          0.          0.          0.\n",
      "  0.          0.          0.          0.          0.          0.          0.\n",
      "  0.          0.          0.          0.          0.          0.          0.\n",
      "  0.          0.          0.          0.          0.          0.          0.\n",
      "  0.          0.          0.          0.          0.          0.          0.\n",
      "  0.          0.          0.          0.          0.          0.          0.\n",
      "  0.          0.          0.          0.          0.        ]\n"
     ]
    }
   ],
   "source": [
    "minimums = list()\n",
    "maximums = list()\n",
    "\n",
    "for i in np.arange(0, len(X_matrix)):\n",
    "    minimums.append(min(X_matrix[i]))\n",
    "    maximums.append(max(X_matrix[i]))\n",
    "    \n",
    "maxX = max(maximums)\n",
    "minX = min(minimums)\n",
    "\n",
    "for i in np.arange(0, len(X)):\n",
    " for j in np.arange(0, len(X[i])):\n",
    "    X[i][j] = float(X_matrix[i][j] - minX) / (maxX - minX)\n",
    "\n",
    "column = np.ones((1, len(X)))\n",
    "column = np.reshape(column, (len(X), 1))\n",
    "X = np.hstack((column, X))    \n",
    "\n",
    "print X[0]"
   ]
  },
  {
   "cell_type": "code",
   "execution_count": 46,
   "metadata": {
    "collapsed": false,
    "deletable": true,
    "editable": true
   },
   "outputs": [],
   "source": [
    "predict_all = getPredict(getProbabilities(log_regressors, X))"
   ]
  },
  {
   "cell_type": "code",
   "execution_count": 52,
   "metadata": {
    "collapsed": false,
    "deletable": true,
    "editable": true
   },
   "outputs": [
    {
     "name": "stdout",
     "output_type": "stream",
     "text": [
      "[2, 0, 9, 7, 3, 7, 0, 3, 0, 3, 5, 7, 4, 0, 4, 3, 3, 1, 9, 0, 9, 1, 1, 5, 7, 4, 2, 7, 7, 7, 7, 5, 4, 2, 6, 2, 9, 5, 1, 6, 7, 7, 4, 9, 8, 7, 8, 8, 6, 7, 6, 8, 8, 3, 8, 2, 1, 2, 2, 0, 4, 1, 7, 0, 0, 0, 1, 9, 0, 1, 6, 5, 8, 8, 2, 8, 3, 9, 2, 3, 5, 9, 1, 0, 9, 2, 4, 3, 6, 7, 2, 0, 6, 6, 8, 4, 3, 9, 7, 7, 0, 3, 2, 0, 7, 3, 0, 5, 0, 3, 0, 0, 4, 7, 1, 7, 1, 1, 5, 3, 3, 7, 2, 8, 6, 3, 8, 7, 8, 4, 3, 5, 6, 0, 0, 0, 3, 1, 5, 6, 4, 3, 4, 5, 5, 8, 7, 7, 2, 8, 4, 3, 5, 6, 5, 3, 7, 3, 7, 8, 3, 0, 4, 5, 1, 8, 7, 6, 4, 0, 2, 7, 8, 6, 1, 3, 7, 4, 1, 2, 4, 3, 8, 2, 4, 9, 2, 1, 6, 0, 6, 1, 4, 9, 6, 0, 9, 7, 6, 9]\n"
     ]
    }
   ],
   "source": [
    "print predict_all[:200]\n",
    "\n",
    "f = open('competition.csv','w')\n",
    "f.write('ImageId,Label\\n')\n",
    "\n",
    "for i, label in enumerate(predict_all):\n",
    "    s = str(i+1)+ ',' + str(label) + '\\n'\n",
    "    f.write(s)\n",
    "f.close()\n",
    "    \n",
    "#получился очень даже неплохой результат - ошибка меньше 9%, но стоит подумать, как можно повысить качество\n",
    "#"
   ]
  },
  {
   "cell_type": "code",
   "execution_count": 14,
   "metadata": {
    "collapsed": false,
    "deletable": true,
    "editable": true
   },
   "outputs": [
    {
     "name": "stdout",
     "output_type": "stream",
     "text": [
      "[6 7 5 7 6 8 5 5 4 4]\n",
      "0.912619047619\n"
     ]
    }
   ],
   "source": [
    "print predict[:10]\n",
    "accuracy = metrics.accuracy_score(test_labels, predict)\n",
    "print accuracy"
   ]
  },
  {
   "cell_type": "code",
   "execution_count": 15,
   "metadata": {
    "collapsed": false,
    "deletable": true,
    "editable": true
   },
   "outputs": [
    {
     "name": "stdout",
     "output_type": "stream",
     "text": [
      "[1 0 1 4 0 0 7 3 5 3]\n",
      "[[  3.80373460e-07   9.45358281e-01   8.65377777e-03   1.37596198e-03\n",
      "    2.93084016e-03   2.45688934e-03   3.30132894e-04   2.68637173e-04\n",
      "    3.85964438e-02   2.86556500e-05]\n",
      " [  9.87340208e-01   6.04800066e-15   6.34478981e-04   1.74811884e-08\n",
      "    9.72629141e-11   2.65113515e-07   7.48328845e-04   3.27088932e-08\n",
      "    1.12761698e-02   4.99351904e-07]\n",
      " [  3.94467101e-09   9.15758234e-01   1.52396578e-02   3.99440153e-02\n",
      "    5.04953050e-04   6.60802103e-04   2.78421330e-03   1.07647217e-02\n",
      "    2.26020958e-04   1.41173776e-02]\n",
      " [  1.29689317e-02   4.89638669e-08   2.29723402e-01   7.89648457e-04\n",
      "    5.59239292e-01   1.09251616e-01   5.66590079e-02   2.77039493e-03\n",
      "    1.05389429e-03   2.75437633e-02]\n",
      " [  9.86216453e-01   5.60335369e-18   3.71072719e-03   2.88350767e-09\n",
      "    4.67223921e-14   2.10804178e-08   6.21280782e-07   1.93422764e-15\n",
      "    1.00721742e-02   3.79689477e-13]\n",
      " [  9.33518286e-01   8.67814589e-12   4.85253922e-03   2.20604318e-04\n",
      "    3.34594216e-05   5.47762395e-02   5.03211981e-04   1.44854565e-06\n",
      "    6.07725773e-03   1.69532448e-05]\n",
      " [  2.36171242e-04   4.68052806e-08   6.62555330e-05   2.21526418e-03\n",
      "    1.55586655e-04   1.23344253e-03   2.12626891e-08   9.69116833e-01\n",
      "    4.44124179e-04   2.65322548e-02]\n",
      " [  1.29966538e-07   1.17359669e-11   8.73492904e-05   3.66476395e-01\n",
      "    5.74814606e-07   2.89702921e-01   1.61814768e-12   7.54687104e-04\n",
      "    8.28402496e-03   3.34693919e-01]\n",
      " [  1.22124262e-04   1.47209169e-08   2.86236188e-07   1.45343850e-03\n",
      "    1.92632019e-02   9.61211030e-01   5.72988066e-07   1.32283036e-08\n",
      "    1.64449251e-02   1.50439259e-03]\n",
      " [  3.17774491e-03   2.64576352e-08   1.22973124e-02   9.84406164e-01\n",
      "    3.20639757e-09   2.18182709e-05   9.51345598e-07   7.04942390e-05\n",
      "    2.54535871e-05   3.20072328e-08]]\n"
     ]
    }
   ],
   "source": [
    "predict_all = log_r.predict(X)\n",
    "predict_all_proba = log_r.predict_proba(X)\n",
    "\n",
    "print predict_all[:10]\n",
    "print predict_all_proba[:10]"
   ]
  },
  {
   "cell_type": "code",
   "execution_count": null,
   "metadata": {
    "collapsed": true,
    "deletable": true,
    "editable": true
   },
   "outputs": [],
   "source": []
  }
 ],
 "metadata": {
  "kernelspec": {
   "display_name": "Python 2",
   "language": "python",
   "name": "python2"
  },
  "language_info": {
   "codemirror_mode": {
    "name": "ipython",
    "version": 2
   },
   "file_extension": ".py",
   "mimetype": "text/x-python",
   "name": "python",
   "nbconvert_exporter": "python",
   "pygments_lexer": "ipython2",
   "version": "2.7.12"
  }
 },
 "nbformat": 4,
 "nbformat_minor": 2
}
