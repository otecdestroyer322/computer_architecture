{
 "cells": [
  {
   "cell_type": "code",
   "execution_count": 30,
   "metadata": {
    "collapsed": false,
    "deletable": true,
    "editable": true
   },
   "outputs": [],
   "source": [
    "import pandas as pd\n",
    "import numpy as np\n",
    "from sklearn import linear_model, metrics, tree\n",
    "from sklearn.grid_search import GridSearchCV\n",
    "from sklearn.cross_validation import train_test_split\n",
    "import matplotlib\n",
    "from matplotlib import pyplot as plt\n",
    "matplotlib.style.use('ggplot')\n",
    "%matplotlib inline\n",
    "from sklearn.ensemble import GradientBoostingRegressor\n"
   ]
  },
  {
   "cell_type": "code",
   "execution_count": 31,
   "metadata": {
    "collapsed": false,
    "deletable": true,
    "editable": true
   },
   "outputs": [
    {
     "name": "stdout",
     "output_type": "stream",
     "text": [
      "   Id  MSSubClass MSZoning  LotFrontage  LotArea Street Alley LotShape  \\\n",
      "0   1          60       RL         65.0     8450   Pave   NaN      Reg   \n",
      "1   2          20       RL         80.0     9600   Pave   NaN      Reg   \n",
      "2   3          60       RL         68.0    11250   Pave   NaN      IR1   \n",
      "3   4          70       RL         60.0     9550   Pave   NaN      IR1   \n",
      "4   5          60       RL         84.0    14260   Pave   NaN      IR1   \n",
      "\n",
      "  LandContour Utilities    ...     PoolArea PoolQC Fence MiscFeature MiscVal  \\\n",
      "0         Lvl    AllPub    ...            0    NaN   NaN         NaN       0   \n",
      "1         Lvl    AllPub    ...            0    NaN   NaN         NaN       0   \n",
      "2         Lvl    AllPub    ...            0    NaN   NaN         NaN       0   \n",
      "3         Lvl    AllPub    ...            0    NaN   NaN         NaN       0   \n",
      "4         Lvl    AllPub    ...            0    NaN   NaN         NaN       0   \n",
      "\n",
      "  MoSold YrSold  SaleType  SaleCondition  SalePrice  \n",
      "0      2   2008        WD         Normal     208500  \n",
      "1      5   2007        WD         Normal     181500  \n",
      "2      9   2008        WD         Normal     223500  \n",
      "3      2   2006        WD        Abnorml     140000  \n",
      "4     12   2008        WD         Normal     250000  \n",
      "\n",
      "[5 rows x 81 columns]\n",
      "        Id  MSSubClass MSZoning  LotFrontage  LotArea Street Alley LotShape  \\\n",
      "1455  1456          60       RL         62.0     7917   Pave   NaN      Reg   \n",
      "1456  1457          20       RL         85.0    13175   Pave   NaN      Reg   \n",
      "1457  1458          70       RL         66.0     9042   Pave   NaN      Reg   \n",
      "1458  1459          20       RL         68.0     9717   Pave   NaN      Reg   \n",
      "1459  1460          20       RL         75.0     9937   Pave   NaN      Reg   \n",
      "\n",
      "     LandContour Utilities    ...     PoolArea PoolQC  Fence MiscFeature  \\\n",
      "1455         Lvl    AllPub    ...            0    NaN    NaN         NaN   \n",
      "1456         Lvl    AllPub    ...            0    NaN  MnPrv         NaN   \n",
      "1457         Lvl    AllPub    ...            0    NaN  GdPrv        Shed   \n",
      "1458         Lvl    AllPub    ...            0    NaN    NaN         NaN   \n",
      "1459         Lvl    AllPub    ...            0    NaN    NaN         NaN   \n",
      "\n",
      "     MiscVal MoSold YrSold  SaleType  SaleCondition  SalePrice  \n",
      "1455       0      8   2007        WD         Normal     175000  \n",
      "1456       0      2   2010        WD         Normal     210000  \n",
      "1457    2500      5   2010        WD         Normal     266500  \n",
      "1458       0      4   2010        WD         Normal     142125  \n",
      "1459       0      6   2008        WD         Normal     147500  \n",
      "\n",
      "[5 rows x 81 columns]\n"
     ]
    }
   ],
   "source": [
    "data = pd.read_csv(\"data/train_house_prices.csv\");\n",
    "print data.head(5)\n",
    "print data.tail(5)\n",
    "del data['Id']\n"
   ]
  },
  {
   "cell_type": "code",
   "execution_count": 32,
   "metadata": {
    "collapsed": false,
    "deletable": true,
    "editable": true
   },
   "outputs": [],
   "source": [
    "X = data.drop(\"SalePrice\", axis=1)\n",
    "y = data[\"SalePrice\"]"
   ]
  },
  {
   "cell_type": "code",
   "execution_count": null,
   "metadata": {
    "collapsed": false,
    "deletable": true,
    "editable": true
   },
   "outputs": [],
   "source": []
  },
  {
   "cell_type": "code",
   "execution_count": 33,
   "metadata": {
    "collapsed": false,
    "deletable": true,
    "editable": true
   },
   "outputs": [
    {
     "name": "stdout",
     "output_type": "stream",
     "text": [
      "True\n",
      "[60 'RL' 65.0 8450 'Pave' nan 'Reg' 'Lvl' 'AllPub' 'Inside' 'Gtl' 'CollgCr'\n",
      " 'Norm' 'Norm' '1Fam' '2Story' 7 5 2003 2003 'Gable' 'CompShg' 'VinylSd'\n",
      " 'VinylSd' 'BrkFace' 196.0 'Gd' 'TA' 'PConc' 'Gd' 'TA' 'No' 'GLQ' 706 'Unf'\n",
      " 0 150 856 'GasA' 'Ex' 'Y' 'SBrkr' 856 854 0 1710 1 0 2 1 3 1 'Gd' 8 'Typ'\n",
      " 0 nan 'Attchd' 2003.0 'RFn' 2 548 'TA' 'TA' 'Y' 0 61 0 0 0 0 nan nan nan 0\n",
      " 2 2008 'WD' 'Normal']\n"
     ]
    }
   ],
   "source": [
    "print data.isnull().values.any() #проверяем, есть ли пустые ячейки\n",
    "print X.values[0]"
   ]
  },
  {
   "cell_type": "code",
   "execution_count": 34,
   "metadata": {
    "collapsed": false,
    "deletable": true,
    "editable": true
   },
   "outputs": [],
   "source": [
    "#разбиваем признаки на категориальные и вещественные, чтобы построить адекватную модель\n",
    "numeric_cols = []\n",
    "categorial_cols = []\n",
    "\n",
    "for i in range(0, len(X.columns)):\n",
    "    \n",
    "    for j in np.arange(0, len(X.values)):\n",
    "        if type(X.values[j][i]) is str:\n",
    "            categorial_cols.append(X.columns[i])\n",
    "            break\n",
    "        if type(X.values[j][i]) is int:\n",
    "            numeric_cols.append(X.columns[i])\n",
    "            break\n",
    "        if type(X.values[j][i]) is float:\n",
    "            numeric_cols.append(X.columns[i])\n",
    "            break\n",
    "\n",
    "numeric_cols.remove(\"Alley\")\n",
    "numeric_cols.remove(\"FireplaceQu\")\n",
    "numeric_cols.remove(\"PoolQC\")\n",
    "numeric_cols.remove(\"Fence\")\n",
    "numeric_cols.remove(\"MiscFeature\")\n",
    "\n",
    "categorial_cols.append(\"Alley\")\n",
    "categorial_cols.append(\"FireplaceQu\")\n",
    "categorial_cols.append(\"PoolQC\")\n",
    "categorial_cols.append(\"Fence\")\n",
    "categorial_cols.append(\"MiscFeature\")"
   ]
  },
  {
   "cell_type": "code",
   "execution_count": 35,
   "metadata": {
    "collapsed": false,
    "deletable": true,
    "editable": true
   },
   "outputs": [
    {
     "name": "stdout",
     "output_type": "stream",
     "text": [
      "43\n",
      "36\n",
      "<class 'pandas.core.frame.DataFrame'>\n",
      "RangeIndex: 1460 entries, 0 to 1459\n",
      "Data columns (total 80 columns):\n",
      "MSSubClass       1460 non-null int64\n",
      "MSZoning         1460 non-null object\n",
      "LotFrontage      1201 non-null float64\n",
      "LotArea          1460 non-null int64\n",
      "Street           1460 non-null object\n",
      "Alley            91 non-null object\n",
      "LotShape         1460 non-null object\n",
      "LandContour      1460 non-null object\n",
      "Utilities        1460 non-null object\n",
      "LotConfig        1460 non-null object\n",
      "LandSlope        1460 non-null object\n",
      "Neighborhood     1460 non-null object\n",
      "Condition1       1460 non-null object\n",
      "Condition2       1460 non-null object\n",
      "BldgType         1460 non-null object\n",
      "HouseStyle       1460 non-null object\n",
      "OverallQual      1460 non-null int64\n",
      "OverallCond      1460 non-null int64\n",
      "YearBuilt        1460 non-null int64\n",
      "YearRemodAdd     1460 non-null int64\n",
      "RoofStyle        1460 non-null object\n",
      "RoofMatl         1460 non-null object\n",
      "Exterior1st      1460 non-null object\n",
      "Exterior2nd      1460 non-null object\n",
      "MasVnrType       1452 non-null object\n",
      "MasVnrArea       1452 non-null float64\n",
      "ExterQual        1460 non-null object\n",
      "ExterCond        1460 non-null object\n",
      "Foundation       1460 non-null object\n",
      "BsmtQual         1423 non-null object\n",
      "BsmtCond         1423 non-null object\n",
      "BsmtExposure     1422 non-null object\n",
      "BsmtFinType1     1423 non-null object\n",
      "BsmtFinSF1       1460 non-null int64\n",
      "BsmtFinType2     1422 non-null object\n",
      "BsmtFinSF2       1460 non-null int64\n",
      "BsmtUnfSF        1460 non-null int64\n",
      "TotalBsmtSF      1460 non-null int64\n",
      "Heating          1460 non-null object\n",
      "HeatingQC        1460 non-null object\n",
      "CentralAir       1460 non-null object\n",
      "Electrical       1459 non-null object\n",
      "1stFlrSF         1460 non-null int64\n",
      "2ndFlrSF         1460 non-null int64\n",
      "LowQualFinSF     1460 non-null int64\n",
      "GrLivArea        1460 non-null int64\n",
      "BsmtFullBath     1460 non-null int64\n",
      "BsmtHalfBath     1460 non-null int64\n",
      "FullBath         1460 non-null int64\n",
      "HalfBath         1460 non-null int64\n",
      "BedroomAbvGr     1460 non-null int64\n",
      "KitchenAbvGr     1460 non-null int64\n",
      "KitchenQual      1460 non-null object\n",
      "TotRmsAbvGrd     1460 non-null int64\n",
      "Functional       1460 non-null object\n",
      "Fireplaces       1460 non-null int64\n",
      "FireplaceQu      770 non-null object\n",
      "GarageType       1379 non-null object\n",
      "GarageYrBlt      1379 non-null float64\n",
      "GarageFinish     1379 non-null object\n",
      "GarageCars       1460 non-null int64\n",
      "GarageArea       1460 non-null int64\n",
      "GarageQual       1379 non-null object\n",
      "GarageCond       1379 non-null object\n",
      "PavedDrive       1460 non-null object\n",
      "WoodDeckSF       1460 non-null int64\n",
      "OpenPorchSF      1460 non-null int64\n",
      "EnclosedPorch    1460 non-null int64\n",
      "3SsnPorch        1460 non-null int64\n",
      "ScreenPorch      1460 non-null int64\n",
      "PoolArea         1460 non-null int64\n",
      "PoolQC           7 non-null object\n",
      "Fence            281 non-null object\n",
      "MiscFeature      54 non-null object\n",
      "MiscVal          1460 non-null int64\n",
      "MoSold           1460 non-null int64\n",
      "YrSold           1460 non-null int64\n",
      "SaleType         1460 non-null object\n",
      "SaleCondition    1460 non-null object\n",
      "SalePrice        1460 non-null int64\n",
      "dtypes: float64(3), int64(34), object(43)\n",
      "memory usage: 912.6+ KB\n",
      "None\n"
     ]
    }
   ],
   "source": [
    "print len(categorial_cols)\n",
    "print len(numeric_cols)\n",
    "print data.info()\n"
   ]
  },
  {
   "cell_type": "code",
   "execution_count": 36,
   "metadata": {
    "collapsed": false,
    "deletable": true,
    "editable": true
   },
   "outputs": [
    {
     "name": "stdout",
     "output_type": "stream",
     "text": [
      "MSSubClass          56.897260\n",
      "LotFrontage         70.049958\n",
      "LotArea          10516.828082\n",
      "OverallQual          6.099315\n",
      "OverallCond          5.575342\n",
      "YearBuilt         1971.267808\n",
      "YearRemodAdd      1984.865753\n",
      "MasVnrArea         103.685262\n",
      "BsmtFinSF1         443.639726\n",
      "BsmtFinSF2          46.549315\n",
      "BsmtUnfSF          567.240411\n",
      "TotalBsmtSF       1057.429452\n",
      "1stFlrSF          1162.626712\n",
      "2ndFlrSF           346.992466\n",
      "LowQualFinSF         5.844521\n",
      "GrLivArea         1515.463699\n",
      "BsmtFullBath         0.425342\n",
      "BsmtHalfBath         0.057534\n",
      "FullBath             1.565068\n",
      "HalfBath             0.382877\n",
      "BedroomAbvGr         2.866438\n",
      "KitchenAbvGr         1.046575\n",
      "TotRmsAbvGrd         6.517808\n",
      "Fireplaces           0.613014\n",
      "GarageYrBlt       1978.506164\n",
      "GarageCars           1.767123\n",
      "GarageArea         472.980137\n",
      "WoodDeckSF          94.244521\n",
      "OpenPorchSF         46.660274\n",
      "EnclosedPorch       21.954110\n",
      "3SsnPorch            3.409589\n",
      "ScreenPorch         15.060959\n",
      "PoolArea             2.758904\n",
      "MiscVal             43.489041\n",
      "MoSold               6.321918\n",
      "YrSold            2007.815753\n",
      "dtype: float64\n"
     ]
    }
   ],
   "source": [
    "#нужно заполнить пустые значения в данных для создания адекватной модели\n",
    "#в случае вещественных признаков проверим качество двух подходов: заполним пропуски средними значениями и нулями\n",
    "import math\n",
    "\n",
    "def calculate_means(numeric_data):#формируем средние значения каждого вещественного признака\n",
    "    means = np.zeros(numeric_data.shape[1])\n",
    "    \n",
    "    for j in range(numeric_data.shape[1]):\n",
    "        \n",
    "        to_sum = numeric_data.iloc[:,j]\n",
    "        indices = np.nonzero(~numeric_data.iloc[:,j].isnull())[0]\n",
    "        correction = np.amax(to_sum[indices])\n",
    "        to_sum /= correction\n",
    "        \n",
    "        for i in indices:\n",
    "            means[j] += to_sum[i]\n",
    "        means[j] /= indices.size\n",
    "        means[j] *= correction\n",
    "        \n",
    "    return pd.Series(means, numeric_data.columns)\n",
    "\n",
    "X_cat = X.drop(numeric_cols, axis = 1).values\n",
    "X_real_means = X.drop(categorial_cols, axis = 1).values\n",
    "X_real_zeros = X.drop(categorial_cols, axis = 1).values\n",
    "\n",
    "numeric_data = X.drop(categorial_cols, axis = 1)\n",
    "means_cols = calculate_means(numeric_data)\n",
    "print means_cols\n",
    "\n",
    "\n",
    "#заполняем наши пропущенные данные: 0, средними и строками 'NA'\n",
    "def fill_empty_values(real, cat):\n",
    "    \n",
    "    for num, X_real_data in enumerate(real):\n",
    "        \n",
    "        for i in np.arange(0, len(X_real_data[0])):\n",
    "            \n",
    "            for j in np.arange(0, len(X_real_data[0][i])):#X_real_data[0] - это список c 0 вместо пустот \n",
    "                if math.isnan(X_real_data[0][i][j]):#X_real_data[1] - это список cо средними вместо пустот \n",
    "                    X_real_data[0][i][j] = 0\n",
    "                    X_real_data[1][i][j] = X_real_data[2][j] #X_real_data[2] - это список средних значений \n",
    "    \n",
    "    for X_cat_data in cat:\n",
    "        \n",
    "        for i in np.arange(0, len(X_cat_data)):\n",
    "            for j in np.arange(0, len(X_cat_data[i])):\n",
    "                X_cat_data[i][j] = str(X_cat_data[i][j])\n",
    "                if X_cat_data[i][j] == 'nan':\n",
    "                    X_cat_data[i][j] = 'NA'\n",
    "        \n",
    "fill_empty_values([[X_real_zeros, X_real_means, means_cols]], [X_cat])\n",
    "\n",
    "X_cat = pd.DataFrame(data = X_cat, columns = categorial_cols)\n",
    "X_real_zeros = pd.DataFrame(data = X_real_zeros, columns = numeric_cols)\n",
    "X_real_means = pd.DataFrame(data = X_real_means, columns = numeric_cols)\n"
   ]
  },
  {
   "cell_type": "code",
   "execution_count": 37,
   "metadata": {
    "collapsed": false,
    "deletable": true,
    "editable": true
   },
   "outputs": [
    {
     "name": "stdout",
     "output_type": "stream",
     "text": [
      "Исходные данные:\n",
      "\n",
      "  nationality     sex\n",
      "0    American    male\n",
      "1    European  female\n",
      "2       Asian    male\n",
      "3    European  female\n",
      "\n",
      "Закодированные данные:\n",
      "\n",
      "[[ 1.  0.  0.  0.  1.]\n",
      " [ 0.  0.  1.  1.  0.]\n",
      " [ 0.  1.  0.  0.  1.]\n",
      " [ 0.  0.  1.  1.  0.]]\n"
     ]
    }
   ],
   "source": [
    "#теперь нужно закодировать категориальные признаки, чтобы учитывать их при обучении модели\n",
    "from sklearn.feature_extraction import DictVectorizer as DV\n",
    "\n",
    "#приведем простой пример того, как это происходит\n",
    "categorial_data = pd.DataFrame({'sex': ['male', 'female', 'male', 'female'], \n",
    "                                'nationality': ['American', 'European', 'Asian', 'European']})\n",
    "print('Исходные данные:\\n')\n",
    "print(categorial_data)\n",
    "encoder = DV(sparse = False)\n",
    "encoded_data = encoder.fit_transform(categorial_data.T.to_dict().values())\n",
    "print('\\nЗакодированные данные:\\n')\n",
    "print(encoded_data)\n",
    "#первые 2 столбца - национальность, 3 последних - пол"
   ]
  },
  {
   "cell_type": "code",
   "execution_count": 38,
   "metadata": {
    "collapsed": false,
    "deletable": true,
    "editable": true
   },
   "outputs": [
    {
     "name": "stdout",
     "output_type": "stream",
     "text": [
      "1460\n"
     ]
    }
   ],
   "source": [
    "#теперь применим тот же метод на наших данных\n",
    "encoder = DV(sparse = False)\n",
    "X_cat_vect = encoder.fit_transform(X_cat.T.to_dict().values())\n",
    "print len(X_cat_vect)"
   ]
  },
  {
   "cell_type": "code",
   "execution_count": 39,
   "metadata": {
    "collapsed": false,
    "deletable": true,
    "editable": true
   },
   "outputs": [
    {
     "name": "stdout",
     "output_type": "stream",
     "text": [
      "1022\n",
      "438\n",
      "1022\n"
     ]
    }
   ],
   "source": [
    "#разделим данные на обучающие и тестовые\n",
    "(X_train_real_zeros, \n",
    " X_test_real_zeros, \n",
    " y_train, y_test) = train_test_split(X_real_zeros, y, \n",
    "                                     test_size = 0.3, \n",
    "                                     random_state = 0)\n",
    "(X_train_real_means, \n",
    " X_test_real_means) = train_test_split(X_real_means, \n",
    "                                      test_size = 0.3, \n",
    "                                      random_state = 0)\n",
    "(X_train_cat_vect,\n",
    " X_test_cat_vect) = train_test_split(X_cat_vect, \n",
    "                                   test_size = 0.3, \n",
    "                                   random_state = 0)\n",
    "\n",
    "print len(X_train_cat_vect)\n",
    "print len(X_test_cat_vect)\n",
    "print len(X_train_real_zeros)"
   ]
  },
  {
   "cell_type": "code",
   "execution_count": 40,
   "metadata": {
    "collapsed": false,
    "deletable": true,
    "editable": true
   },
   "outputs": [],
   "source": [
    "#соединим категориальные и вещественные признаки\n",
    "X_train_zeros_cat = np.hstack((X_train_real_zeros, X_train_cat_vect))\n",
    "X_train_means_cat = np.hstack((X_train_real_means, X_train_cat_vect))\n",
    "X_test_zeros_cat = np.hstack((X_test_real_zeros, X_test_cat_vect))\n",
    "X_test_means_cat = np.hstack((X_test_real_means, X_test_cat_vect))\n"
   ]
  },
  {
   "cell_type": "code",
   "execution_count": 37,
   "metadata": {
    "collapsed": false,
    "deletable": true,
    "editable": true,
    "scrolled": true
   },
   "outputs": [
    {
     "data": {
      "image/png": "[encoded data removed]",
      "text/plain": [
       "<matplotlib.figure.Figure at 0x7f7530da7f90>"
      ]
     },
     "metadata": {},
     "output_type": "display_data"
    },
    {
     "data": {
      "image/png": "[encoded data removed]",
      "text/plain": [
       "<matplotlib.figure.Figure at 0x7f7530dd0f50>"
      ]
     },
     "metadata": {},
     "output_type": "display_data"
    }
   ],
   "source": [
    "#применим метод линейной регрессии с выбором параметра регуляризации по сетке\n",
    "\n",
    "#функция построения графиков: потом пригодится для оценки качества алгоритмов\n",
    "def plot_scores(optimizer):\n",
    "    scores = [[item[0]['alpha'], \n",
    "               item[1], \n",
    "               (np.sum( (item[2] - item[1]) ** 2) / (item[2].size - 1) ) ** 0.5] for item in optimizer.grid_scores_]\n",
    "    scores = np.array(scores)\n",
    "    plt.semilogx(scores[:,0], scores[:,1])\n",
    "    plt.fill_between(scores[:,0], scores[:,1]-scores[:,2], \n",
    "                                  scores[:,1]+scores[:,2], alpha=0.3)\n",
    "    plt.show()\n",
    "\n",
    "# С - это (1 / k), где k - это коэффициент при сумме регуляризации, применяемой при обучении модели для сдерживания роста\n",
    "# весов при - для предовтвращения переобучения модели. Будем использовать L2 и L1 регуляризации: потом подробно расскажу.\n",
    "param_grid = {'alpha': [0.01, 0.05, 0.1, 0.5, 1, 5, 10, 100]} #значения коэффициента\n",
    "cv = 3 #количество разбиений при обучении на сетке\n",
    "\n",
    "estimator1 = linear_model.Lasso(max_iter = 10000)\n",
    "\n",
    "#обучаем первую модель с заполнением нулями\n",
    "optimizer1 = GridSearchCV(estimator = estimator1, param_grid = param_grid, cv = cv)\n",
    "optimizer1.fit(X_train_zeros_cat, y_train)\n",
    "predict1 = optimizer1.predict(X_test_zeros_cat)\n",
    "\n",
    "#обучаем вторую модель с заполнением с помощью среднего значения\n",
    "optimizer2 = GridSearchCV(estimator = estimator1, param_grid = param_grid, cv = cv)\n",
    "optimizer2.fit(X_train_means_cat, y_train)\n",
    "predict2 = optimizer2.predict(X_test_means_cat)\n",
    "\n",
    "plot_scores(optimizer1)\n",
    "plot_scores(optimizer2)\n"
   ]
  },
  {
   "cell_type": "code",
   "execution_count": 58,
   "metadata": {
    "collapsed": false,
    "deletable": true,
    "editable": true
   },
   "outputs": [
    {
     "data": {
      "image/png": "[encoded data removed]",
      "text/plain": [
       "<matplotlib.figure.Figure at 0x7ff6ea831350>"
      ]
     },
     "metadata": {},
     "output_type": "display_data"
    },
    {
     "data": {
      "image/png": "[encoded data removed]",
      "text/plain": [
       "<matplotlib.figure.Figure at 0x7ff6ea2790d0>"
      ]
     },
     "metadata": {},
     "output_type": "display_data"
    }
   ],
   "source": [
    "#видим, что при данных значениях параметра альфа точность предсказаний нашей модели достигает максимума при alpha=100\n",
    "#проверим, что будет просходить при больших aplha\n",
    "param_grid = {'alpha': [100, 200, 300, 400, 500, 1000]} #значения коэффициента\n",
    "cv = 3 #количество разбиений при обучении на сетке\n",
    "\n",
    "estimator2 = linear_model.Lasso(max_iter = 10000)\n",
    "\n",
    "#обучаем первую модель с заполнением нулями\n",
    "optimizer3 = GridSearchCV(estimator = estimator2, param_grid = param_grid, cv = cv)\n",
    "optimizer3.fit(X_train_zeros_cat, y_train)\n",
    "predict3 = optimizer3.predict(X_test_zeros_cat)\n",
    "\n",
    "#обучаем вторую модель с заполнением с помощью среднего значения\n",
    "optimizer4 = GridSearchCV(estimator = estimator2, param_grid = param_grid, cv = cv)\n",
    "optimizer4.fit(X_train_means_cat, y_train)\n",
    "predict4 = optimizer4.predict(X_test_means_cat)\n",
    "\n",
    "plot_scores(optimizer3)\n",
    "plot_scores(optimizer4)"
   ]
  },
  {
   "cell_type": "code",
   "execution_count": 20,
   "metadata": {
    "collapsed": false,
    "deletable": true,
    "editable": true,
    "scrolled": true
   },
   "outputs": [
    {
     "name": "stdout",
     "output_type": "stream",
     "text": [
      "     Id  MSSubClass MSZoning  LotFrontage  LotArea Street Alley LotShape  \\\n",
      "0  1461          20       RH         80.0    11622   Pave   NaN      Reg   \n",
      "1  1462          20       RL         81.0    14267   Pave   NaN      IR1   \n",
      "2  1463          60       RL         74.0    13830   Pave   NaN      IR1   \n",
      "3  1464          60       RL         78.0     9978   Pave   NaN      IR1   \n",
      "4  1465         120       RL         43.0     5005   Pave   NaN      IR1   \n",
      "\n",
      "  LandContour Utilities      ...       ScreenPorch PoolArea PoolQC  Fence  \\\n",
      "0         Lvl    AllPub      ...               120        0    NaN  MnPrv   \n",
      "1         Lvl    AllPub      ...                 0        0    NaN    NaN   \n",
      "2         Lvl    AllPub      ...                 0        0    NaN  MnPrv   \n",
      "3         Lvl    AllPub      ...                 0        0    NaN    NaN   \n",
      "4         HLS    AllPub      ...               144        0    NaN    NaN   \n",
      "\n",
      "  MiscFeature MiscVal MoSold  YrSold  SaleType  SaleCondition  \n",
      "0         NaN       0      6    2010        WD         Normal  \n",
      "1        Gar2   12500      6    2010        WD         Normal  \n",
      "2         NaN       0      3    2010        WD         Normal  \n",
      "3         NaN       0      6    2010        WD         Normal  \n",
      "4         NaN       0      1    2010        WD         Normal  \n",
      "\n",
      "[5 rows x 80 columns]\n",
      "        Id  MSSubClass MSZoning  LotFrontage  LotArea Street Alley LotShape  \\\n",
      "1454  2915         160       RM         21.0     1936   Pave   NaN      Reg   \n",
      "1455  2916         160       RM         21.0     1894   Pave   NaN      Reg   \n",
      "1456  2917          20       RL        160.0    20000   Pave   NaN      Reg   \n",
      "1457  2918          85       RL         62.0    10441   Pave   NaN      Reg   \n",
      "1458  2919          60       RL         74.0     9627   Pave   NaN      Reg   \n",
      "\n",
      "     LandContour Utilities      ...       ScreenPorch PoolArea PoolQC  Fence  \\\n",
      "1454         Lvl    AllPub      ...                 0        0    NaN    NaN   \n",
      "1455         Lvl    AllPub      ...                 0        0    NaN    NaN   \n",
      "1456         Lvl    AllPub      ...                 0        0    NaN    NaN   \n",
      "1457         Lvl    AllPub      ...                 0        0    NaN  MnPrv   \n",
      "1458         Lvl    AllPub      ...                 0        0    NaN    NaN   \n",
      "\n",
      "     MiscFeature MiscVal MoSold  YrSold  SaleType  SaleCondition  \n",
      "1454         NaN       0      6    2006        WD         Normal  \n",
      "1455         NaN       0      4    2006        WD        Abnorml  \n",
      "1456         NaN       0      9    2006        WD        Abnorml  \n",
      "1457        Shed     700      7    2006        WD         Normal  \n",
      "1458         NaN       0     11    2006        WD         Normal  \n",
      "\n",
      "[5 rows x 80 columns]\n"
     ]
    }
   ],
   "source": [
    "#видим, что качество стало падать с ростом коэффициента alpha -> берем alpha = 100\n",
    "#проверим нашу модель на тестовых данных -> обработаем их, предскажем стоимость и отправим на проверку\n",
    "data = pd.read_csv(\"data/test_house_prices.csv\");\n",
    "print data.head(5)\n",
    "print data.tail(5)\n",
    "del data[\"Id\"]"
   ]
  },
  {
   "cell_type": "code",
   "execution_count": 21,
   "metadata": {
    "collapsed": false,
    "deletable": true,
    "editable": true
   },
   "outputs": [
    {
     "name": "stdout",
     "output_type": "stream",
     "text": [
      "True\n"
     ]
    }
   ],
   "source": [
    "print data.isnull().values.any() #проверяем, есть ли пустые ячейки\n",
    "X = data\n"
   ]
  },
  {
   "cell_type": "code",
   "execution_count": 22,
   "metadata": {
    "collapsed": false,
    "deletable": true,
    "editable": true,
    "scrolled": true
   },
   "outputs": [
    {
     "name": "stdout",
     "output_type": "stream",
     "text": [
      "<class 'pandas.core.frame.DataFrame'>\n",
      "RangeIndex: 1459 entries, 0 to 1458\n",
      "Data columns (total 79 columns):\n",
      "MSSubClass       1459 non-null int64\n",
      "MSZoning         1455 non-null object\n",
      "LotFrontage      1232 non-null float64\n",
      "LotArea          1459 non-null int64\n",
      "Street           1459 non-null object\n",
      "Alley            107 non-null object\n",
      "LotShape         1459 non-null object\n",
      "LandContour      1459 non-null object\n",
      "Utilities        1457 non-null object\n",
      "LotConfig        1459 non-null object\n",
      "LandSlope        1459 non-null object\n",
      "Neighborhood     1459 non-null object\n",
      "Condition1       1459 non-null object\n",
      "Condition2       1459 non-null object\n",
      "BldgType         1459 non-null object\n",
      "HouseStyle       1459 non-null object\n",
      "OverallQual      1459 non-null int64\n",
      "OverallCond      1459 non-null int64\n",
      "YearBuilt        1459 non-null int64\n",
      "YearRemodAdd     1459 non-null int64\n",
      "RoofStyle        1459 non-null object\n",
      "RoofMatl         1459 non-null object\n",
      "Exterior1st      1458 non-null object\n",
      "Exterior2nd      1458 non-null object\n",
      "MasVnrType       1443 non-null object\n",
      "MasVnrArea       1444 non-null float64\n",
      "ExterQual        1459 non-null object\n",
      "ExterCond        1459 non-null object\n",
      "Foundation       1459 non-null object\n",
      "BsmtQual         1415 non-null object\n",
      "BsmtCond         1414 non-null object\n",
      "BsmtExposure     1415 non-null object\n",
      "BsmtFinType1     1417 non-null object\n",
      "BsmtFinSF1       1458 non-null float64\n",
      "BsmtFinType2     1417 non-null object\n",
      "BsmtFinSF2       1458 non-null float64\n",
      "BsmtUnfSF        1458 non-null float64\n",
      "TotalBsmtSF      1458 non-null float64\n",
      "Heating          1459 non-null object\n",
      "HeatingQC        1459 non-null object\n",
      "CentralAir       1459 non-null object\n",
      "Electrical       1459 non-null object\n",
      "1stFlrSF         1459 non-null int64\n",
      "2ndFlrSF         1459 non-null int64\n",
      "LowQualFinSF     1459 non-null int64\n",
      "GrLivArea        1459 non-null int64\n",
      "BsmtFullBath     1457 non-null float64\n",
      "BsmtHalfBath     1457 non-null float64\n",
      "FullBath         1459 non-null int64\n",
      "HalfBath         1459 non-null int64\n",
      "BedroomAbvGr     1459 non-null int64\n",
      "KitchenAbvGr     1459 non-null int64\n",
      "KitchenQual      1458 non-null object\n",
      "TotRmsAbvGrd     1459 non-null int64\n",
      "Functional       1457 non-null object\n",
      "Fireplaces       1459 non-null int64\n",
      "FireplaceQu      729 non-null object\n",
      "GarageType       1383 non-null object\n",
      "GarageYrBlt      1381 non-null float64\n",
      "GarageFinish     1381 non-null object\n",
      "GarageCars       1458 non-null float64\n",
      "GarageArea       1458 non-null float64\n",
      "GarageQual       1381 non-null object\n",
      "GarageCond       1381 non-null object\n",
      "PavedDrive       1459 non-null object\n",
      "WoodDeckSF       1459 non-null int64\n",
      "OpenPorchSF      1459 non-null int64\n",
      "EnclosedPorch    1459 non-null int64\n",
      "3SsnPorch        1459 non-null int64\n",
      "ScreenPorch      1459 non-null int64\n",
      "PoolArea         1459 non-null int64\n",
      "PoolQC           3 non-null object\n",
      "Fence            290 non-null object\n",
      "MiscFeature      51 non-null object\n",
      "MiscVal          1459 non-null int64\n",
      "MoSold           1459 non-null int64\n",
      "YrSold           1459 non-null int64\n",
      "SaleType         1458 non-null object\n",
      "SaleCondition    1459 non-null object\n",
      "dtypes: float64(11), int64(25), object(43)\n",
      "memory usage: 900.5+ KB\n",
      "None\n"
     ]
    }
   ],
   "source": [
    "print data.info()"
   ]
  },
  {
   "cell_type": "code",
   "execution_count": 23,
   "metadata": {
    "collapsed": false,
    "deletable": true,
    "editable": true
   },
   "outputs": [
    {
     "name": "stdout",
     "output_type": "stream",
     "text": [
      "LotFrontage\n",
      "Alley\n",
      "MasVnrArea\n",
      "BsmtFinSF1\n",
      "BsmtFinSF2\n",
      "BsmtUnfSF\n",
      "TotalBsmtSF\n",
      "BsmtFullBath\n",
      "BsmtHalfBath\n",
      "FireplaceQu\n",
      "GarageYrBlt\n",
      "GarageCars\n",
      "GarageArea\n",
      "PoolQC\n",
      "MiscFeature\n"
     ]
    }
   ],
   "source": [
    "#разбиваем признаки на категориальные и вещественные, чтобы построить адекватную модель\n",
    "numeric_cols = []\n",
    "categorial_cols = []\n",
    "\n",
    "for i in range(0, len(X.columns)):\n",
    "    \n",
    "    for j in np.arange(0, len(X.values)):\n",
    "        if type(X.values[j][i]) is str:\n",
    "            categorial_cols.append(X.columns[i])\n",
    "            break\n",
    "        if type(X.values[j][i]) is int:\n",
    "            numeric_cols.append(X.columns[i])\n",
    "            break\n",
    "        if type(X.values[j][i]) is float:\n",
    "            numeric_cols.append(X.columns[i])\n",
    "            print X.columns[i]\n",
    "            break\n",
    "\n",
    "numeric_cols.remove(\"Alley\")\n",
    "numeric_cols.remove(\"FireplaceQu\")\n",
    "numeric_cols.remove(\"PoolQC\")\n",
    "numeric_cols.remove(\"MiscFeature\")\n",
    "\n",
    "categorial_cols.append(\"Alley\")\n",
    "categorial_cols.append(\"FireplaceQu\")\n",
    "categorial_cols.append(\"PoolQC\")\n",
    "categorial_cols.append(\"MiscFeature\")"
   ]
  },
  {
   "cell_type": "code",
   "execution_count": 24,
   "metadata": {
    "collapsed": false,
    "deletable": true,
    "editable": true
   },
   "outputs": [
    {
     "name": "stdout",
     "output_type": "stream",
     "text": [
      "43\n",
      "36\n"
     ]
    }
   ],
   "source": [
    "print len(categorial_cols)\n",
    "print len(numeric_cols)"
   ]
  },
  {
   "cell_type": "code",
   "execution_count": 25,
   "metadata": {
    "collapsed": false,
    "deletable": true,
    "editable": true
   },
   "outputs": [
    {
     "name": "stdout",
     "output_type": "stream",
     "text": [
      "MSSubClass         57.378341\n",
      "LotFrontage        68.580357\n",
      "LotArea          9819.161069\n",
      "OverallQual         6.078821\n",
      "OverallCond         5.553804\n",
      "YearBuilt        1971.357779\n",
      "YearRemodAdd     1983.662783\n",
      "MasVnrArea        100.709141\n",
      "BsmtFinSF1        439.203704\n",
      "BsmtFinSF2         52.619342\n",
      "BsmtUnfSF         554.294925\n",
      "TotalBsmtSF      1046.117970\n",
      "1stFlrSF         1156.534613\n",
      "2ndFlrSF          325.967786\n",
      "LowQualFinSF        3.543523\n",
      "GrLivArea        1486.045922\n",
      "BsmtFullBath        0.434454\n",
      "BsmtHalfBath        0.065202\n",
      "FullBath            1.570939\n",
      "HalfBath            0.377656\n",
      "BedroomAbvGr        2.854010\n",
      "KitchenAbvGr        1.042495\n",
      "TotRmsAbvGrd        6.385195\n",
      "Fireplaces          0.581220\n",
      "GarageYrBlt      1977.721217\n",
      "GarageCars          1.766118\n",
      "GarageArea        472.768861\n",
      "WoodDeckSF         93.174777\n",
      "OpenPorchSF        48.313914\n",
      "EnclosedPorch      24.243317\n",
      "3SsnPorch           1.794380\n",
      "ScreenPorch        17.064428\n",
      "PoolArea            1.744345\n",
      "MiscVal            58.167923\n",
      "MoSold              6.104181\n",
      "YrSold           2007.769705\n",
      "dtype: float64\n"
     ]
    }
   ],
   "source": [
    "X_cat = X.drop(numeric_cols, axis = 1).values\n",
    "X_real_means = X.drop(categorial_cols, axis = 1).values\n",
    "X_real_zeros = X.drop(categorial_cols, axis = 1).values\n",
    "\n",
    "numeric_data = X.drop(categorial_cols, axis = 1)\n",
    "means_cols = calculate_means(numeric_data)\n",
    "print means_cols\n",
    "\n",
    "fill_empty_values([[X_real_zeros, X_real_means, means_cols]], [X_cat])\n",
    "\n",
    "X_cat = pd.DataFrame(data = X_cat, columns = categorial_cols)\n",
    "X_real_zeros = pd.DataFrame(data = X_real_zeros, columns = numeric_cols)\n",
    "X_real_means = pd.DataFrame(data = X_real_means, columns = numeric_cols)\n"
   ]
  },
  {
   "cell_type": "code",
   "execution_count": 26,
   "metadata": {
    "collapsed": false,
    "deletable": true,
    "editable": true
   },
   "outputs": [
    {
     "name": "stdout",
     "output_type": "stream",
     "text": [
      "1459\n"
     ]
    }
   ],
   "source": [
    "#теперь применим тот же метод векторизации категориальных признаков на тестовых данных\n",
    "X_cat_vect = encoder.transform(X_cat.T.to_dict().values())\n",
    "print len(X_cat_vect)"
   ]
  },
  {
   "cell_type": "code",
   "execution_count": 27,
   "metadata": {
    "collapsed": false,
    "deletable": true,
    "editable": true
   },
   "outputs": [
    {
     "name": "stdout",
     "output_type": "stream",
     "text": [
      "1459\n",
      "1459\n"
     ]
    }
   ],
   "source": [
    "X_zeros_cat = np.hstack((X_real_zeros, X_cat_vect))\n",
    "X_means_cat = np.hstack((X_real_means, X_cat_vect))\n",
    "\n",
    "print len(X_zeros_cat)\n",
    "print len(X_means_cat)"
   ]
  },
  {
   "cell_type": "code",
   "execution_count": 68,
   "metadata": {
    "collapsed": false,
    "deletable": true,
    "editable": true
   },
   "outputs": [
    {
     "name": "stdout",
     "output_type": "stream",
     "text": [
      "[ 120160.93737218  163221.10647821]\n",
      "[ 120160.93737218  163221.10647821]\n",
      "   MSSubClass MSZoning  LotFrontage  LotArea Street Alley LotShape  \\\n",
      "0          20       RH         80.0    11622   Pave   NaN      Reg   \n",
      "1          20       RL         81.0    14267   Pave   NaN      IR1   \n",
      "\n",
      "  LandContour Utilities LotConfig      ...       ScreenPorch PoolArea PoolQC  \\\n",
      "0         Lvl    AllPub    Inside      ...               120        0    NaN   \n",
      "1         Lvl    AllPub    Corner      ...                 0        0    NaN   \n",
      "\n",
      "   Fence MiscFeature MiscVal  MoSold  YrSold  SaleType  SaleCondition  \n",
      "0  MnPrv         NaN       0       6    2010        WD         Normal  \n",
      "1    NaN        Gar2   12500       6    2010        WD         Normal  \n",
      "\n",
      "[2 rows x 79 columns]\n"
     ]
    }
   ],
   "source": [
    "predict_zeros = optimizer2.best_estimator_.predict(X_zeros_cat)\n",
    "predict_means = optimizer2.best_estimator_.predict(X_means_cat)\n",
    "\n",
    "print predict_zeros[:2]\n",
    "print predict_means[:2]\n",
    "\n",
    "print data[:2]"
   ]
  },
  {
   "cell_type": "code",
   "execution_count": 41,
   "metadata": {
    "collapsed": false,
    "deletable": true,
    "editable": true
   },
   "outputs": [],
   "source": [
    "def write_answer(predict, num):\n",
    "    file_name = 'house_prices' + str(num) + '.csv'\n",
    "    f = open(file_name,'w')\n",
    "    f.write('Id,SalePrice\\n')\n",
    "    i = 1461\n",
    "    for label in predict_means:\n",
    "        s = str(i)+ ',' + str(label) + '\\n'\n",
    "        f.write(s)\n",
    "        i += 1\n",
    "    f.close()"
   ]
  },
  {
   "cell_type": "code",
   "execution_count": 13,
   "metadata": {
    "collapsed": false,
    "deletable": true,
    "editable": true,
    "scrolled": true
   },
   "outputs": [
    {
     "name": "stdout",
     "output_type": "stream",
     "text": [
      "[ -1.16856093e+02   3.17342554e+01   5.35963888e-01   8.15371155e+03\n",
      "   5.48132925e+03   3.38339483e+02   7.87617884e+01   2.96472982e+01\n",
      "   2.28448388e+01   1.45226532e+01   1.02212183e+01   7.21333933e+00\n",
      "   4.55281742e+01   5.12559215e+01   3.15854630e+01   6.72058957e+00\n",
      "   1.82404841e+03  -0.00000000e+00   2.44354768e+03   0.00000000e+00\n",
      "  -3.91490294e+03  -1.27124500e+04   1.72436303e+03   2.51521276e+03\n",
      "  -4.91574061e+00   1.60539495e+03   2.48670798e+01   1.70076532e+01\n",
      "   1.44212101e+01   3.83871709e+00   1.36190058e+01   2.44462815e+01\n",
      "   4.40596810e+01  -1.54161676e-01  -3.14420274e+02  -0.00000000e+00\n",
      "  -0.00000000e+00   0.00000000e+00   0.00000000e+00   0.00000000e+00\n",
      "   0.00000000e+00   0.00000000e+00   4.86665658e+03   0.00000000e+00\n",
      "  -3.12824058e+05  -0.00000000e+00   0.00000000e+00   0.00000000e+00\n",
      "   1.48142607e+04   0.00000000e+00  -9.00639911e+03   0.00000000e+00\n",
      "  -6.22400040e+03  -0.00000000e+00  -2.43966866e+03   0.00000000e+00\n",
      "   0.00000000e+00   5.99989123e+02   0.00000000e+00   1.25228455e+04\n",
      "  -1.44402944e+03   0.00000000e+00  -4.88418909e+03   0.00000000e+00\n",
      "   1.47540955e+03   3.35219415e+03  -0.00000000e+00   0.00000000e+00\n",
      "  -9.51765301e+02  -1.62242204e+02  -2.11613185e+03  -0.00000000e+00\n",
      "   0.00000000e+00   0.00000000e+00   0.00000000e+00   0.00000000e+00\n",
      "   2.10640949e+03  -0.00000000e+00  -0.00000000e+00   0.00000000e+00\n",
      "  -0.00000000e+00   0.00000000e+00   0.00000000e+00   0.00000000e+00\n",
      "   8.49567661e+03   0.00000000e+00  -2.38820388e+02   2.12053917e+04\n",
      "  -4.79356783e+03  -0.00000000e+00  -0.00000000e+00  -0.00000000e+00\n",
      "  -1.04408856e+04  -3.47467279e+03   0.00000000e+00  -1.99212484e+03\n",
      "   3.00783333e+04   1.08346890e+04  -0.00000000e+00  -0.00000000e+00\n",
      "   0.00000000e+00   0.00000000e+00   0.00000000e+00   2.57847281e+04\n",
      "  -2.84496504e+03   0.00000000e+00  -0.00000000e+00  -0.00000000e+00\n",
      "   1.12458089e+04   0.00000000e+00  -0.00000000e+00  -1.66424516e+03\n",
      "   1.57625670e+03  -0.00000000e+00  -0.00000000e+00   0.00000000e+00\n",
      "  -0.00000000e+00   1.93608794e+04   0.00000000e+00  -0.00000000e+00\n",
      "  -3.21535048e+03  -0.00000000e+00  -5.04387932e+03  -0.00000000e+00\n",
      "   1.88430813e+03   0.00000000e+00   0.00000000e+00  -0.00000000e+00\n",
      "   0.00000000e+00   0.00000000e+00  -0.00000000e+00  -0.00000000e+00\n",
      "   0.00000000e+00   4.56283481e+04   0.00000000e+00  -0.00000000e+00\n",
      "  -0.00000000e+00   1.11503562e+04  -0.00000000e+00   0.00000000e+00\n",
      "  -0.00000000e+00  -0.00000000e+00  -0.00000000e+00  -0.00000000e+00\n",
      "  -0.00000000e+00   4.16085006e+03   8.42261956e+02  -2.48165581e+02\n",
      "  -0.00000000e+00  -3.92185963e+03   0.00000000e+00   0.00000000e+00\n",
      "   0.00000000e+00  -0.00000000e+00  -0.00000000e+00   1.08213286e+04\n",
      "  -0.00000000e+00  -5.29266010e+03  -2.75820355e+03   0.00000000e+00\n",
      "   0.00000000e+00  -0.00000000e+00   0.00000000e+00   0.00000000e+00\n",
      "   0.00000000e+00  -0.00000000e+00  -0.00000000e+00  -0.00000000e+00\n",
      "   2.20348205e+04   0.00000000e+00  -0.00000000e+00  -9.14963465e+02\n",
      "   0.00000000e+00   0.00000000e+00  -1.04607045e+03   0.00000000e+00\n",
      "   0.00000000e+00  -0.00000000e+00  -5.10313741e+02   0.00000000e+00\n",
      "   0.00000000e+00  -0.00000000e+00  -0.00000000e+00  -1.02538771e+02\n",
      "  -0.00000000e+00   2.74963522e+03   0.00000000e+00   0.00000000e+00\n",
      "   0.00000000e+00  -0.00000000e+00  -0.00000000e+00  -0.00000000e+00\n",
      "   0.00000000e+00  -0.00000000e+00   0.00000000e+00   1.38396898e+04\n",
      "   0.00000000e+00  -1.15278817e+03  -0.00000000e+00  -0.00000000e+00\n",
      "   0.00000000e+00   0.00000000e+00   0.00000000e+00   0.00000000e+00\n",
      "   0.00000000e+00  -0.00000000e+00   0.00000000e+00  -0.00000000e+00\n",
      "   0.00000000e+00   0.00000000e+00   0.00000000e+00  -3.56201792e+03\n",
      "  -0.00000000e+00   0.00000000e+00  -0.00000000e+00   3.52260796e+02\n",
      "  -0.00000000e+00   0.00000000e+00   0.00000000e+00  -1.36013832e+03\n",
      "  -0.00000000e+00   5.57481340e+03   0.00000000e+00  -0.00000000e+00\n",
      "   0.00000000e+00   7.16706824e+03  -0.00000000e+00  -0.00000000e+00\n",
      "  -3.75308015e+01   0.00000000e+00  -0.00000000e+00  -0.00000000e+00\n",
      "   0.00000000e+00   0.00000000e+00  -6.22964608e+03   1.12490070e+04\n",
      "  -0.00000000e+00   3.86954200e+03  -0.00000000e+00  -0.00000000e+00\n",
      "  -0.00000000e+00  -0.00000000e+00   0.00000000e+00  -0.00000000e+00\n",
      "   0.00000000e+00  -0.00000000e+00  -0.00000000e+00  -0.00000000e+00\n",
      "  -0.00000000e+00  -7.28188652e+02   0.00000000e+00   0.00000000e+00\n",
      "   0.00000000e+00   0.00000000e+00  -9.62077441e+02  -9.30029623e+03\n",
      "   0.00000000e+00   0.00000000e+00   0.00000000e+00  -0.00000000e+00\n",
      "   0.00000000e+00   0.00000000e+00   0.00000000e+00  -1.30081733e+04\n",
      "   0.00000000e+00  -0.00000000e+00   0.00000000e+00   0.00000000e+00\n",
      "  -0.00000000e+00  -0.00000000e+00  -0.00000000e+00  -0.00000000e+00\n",
      "   0.00000000e+00   0.00000000e+00   0.00000000e+00  -0.00000000e+00\n",
      "  -1.09780366e+03   0.00000000e+00   0.00000000e+00   0.00000000e+00\n",
      "   0.00000000e+00  -0.00000000e+00   0.00000000e+00   2.20694492e+02\n",
      "   0.00000000e+00  -0.00000000e+00  -2.04922180e+03   0.00000000e+00\n",
      "   0.00000000e+00   0.00000000e+00  -0.00000000e+00   0.00000000e+00\n",
      "   0.00000000e+00  -0.00000000e+00  -0.00000000e+00   0.00000000e+00\n",
      "  -0.00000000e+00   0.00000000e+00  -9.83557563e+03   6.96076628e-10\n",
      "  -0.00000000e+00   0.00000000e+00  -1.97847942e+03   0.00000000e+00]\n"
     ]
    }
   ],
   "source": [
    "print optimizer1.best_estimator_.coef_"
   ]
  },
  {
   "cell_type": "code",
   "execution_count": 12,
   "metadata": {
    "collapsed": true,
    "deletable": true,
    "editable": true
   },
   "outputs": [],
   "source": [
    "#попробуем улучшить качество с помощью градиентного бустинга (сначала написанного мной)\n",
    "#смысл: каждый новый алгоритм исправляет ошибки старой модели\n",
    "def gbm_predict(X, algorithms, coefs):#функция предсказания ответа (суммирует ответы каждого алгоритма )\n",
    "    return [sum([coeff * algo.predict([x])[0] for algo, coeff in zip(algorithms, coefs)]) for x in X]\n",
    "\n",
    "\n",
    "def gboost(n_algos, X_train, y_train):#функция построения модели из простых алгоритмов\n",
    "    \n",
    "    algos = list() #список алгоритмов\n",
    "    coefs = list() #список коэффициентов перед базовыми алгоритмами (вес)\n",
    "    answers = y_train #для подсчета градиента\n",
    "    \n",
    "    for i in np.arange(0, n_algos):\n",
    "        regressor = linear_model.Lasso(alpha = 100)\n",
    "        regressor.fit(X_train, answers)\n",
    "        algos.append(regressor)\n",
    "        coefs.append( 0.9 / (1.0 + i) )\n",
    "        predict = gbm_predict(X_train, algos, coefs)\n",
    "        answers = (y_train - predict)\n",
    "        \n",
    "    \n",
    "    return [algos, coefs]\n"
   ]
  },
  {
   "cell_type": "code",
   "execution_count": 14,
   "metadata": {
    "collapsed": false,
    "deletable": true,
    "editable": true
   },
   "outputs": [
    {
     "name": "stdout",
     "output_type": "stream",
     "text": [
      "n - 20\n",
      "\n",
      "42526.9286029\n",
      "41873.3976012\n",
      "\n",
      "\n",
      "n - 35\n",
      "\n",
      "42581.3907526\n",
      "41924.3033054\n",
      "\n",
      "\n",
      "n - 50\n",
      "\n",
      "42606.3905545\n",
      "41947.8351179\n",
      "\n",
      "\n",
      "n - 65\n",
      "\n",
      "42620.838802\n",
      "41961.4818693\n",
      "\n",
      "\n"
     ]
    },
    {
     "ename": "KeyboardInterrupt",
     "evalue": "",
     "output_type": "error",
     "traceback": [
      "\u001b[0;31m---------------------------------------------------------------------------\u001b[0m",
      "\u001b[0;31mKeyboardInterrupt\u001b[0m                         Traceback (most recent call last)",
      "\u001b[0;32m<ipython-input-14-74b05f430971>\u001b[0m in \u001b[0;36m<module>\u001b[0;34m()\u001b[0m\n\u001b[1;32m      5\u001b[0m \u001b[0;34m\u001b[0m\u001b[0m\n\u001b[1;32m      6\u001b[0m \u001b[0;32mfor\u001b[0m \u001b[0mn\u001b[0m \u001b[0;32min\u001b[0m \u001b[0mn_algos\u001b[0m\u001b[0;34m:\u001b[0m\u001b[0;34m\u001b[0m\u001b[0m\n\u001b[0;32m----> 7\u001b[0;31m     \u001b[0mmodel1\u001b[0m \u001b[0;34m=\u001b[0m \u001b[0mgboost\u001b[0m\u001b[0;34m(\u001b[0m\u001b[0mn\u001b[0m\u001b[0;34m,\u001b[0m \u001b[0mX_train_means_cat\u001b[0m\u001b[0;34m,\u001b[0m \u001b[0my_train\u001b[0m\u001b[0;34m)\u001b[0m\u001b[0;31m#модель со средними вместо пустых значений\u001b[0m\u001b[0;34m\u001b[0m\u001b[0m\n\u001b[0m\u001b[1;32m      8\u001b[0m     \u001b[0mmodel2\u001b[0m \u001b[0;34m=\u001b[0m \u001b[0mgboost\u001b[0m\u001b[0;34m(\u001b[0m\u001b[0mn\u001b[0m\u001b[0;34m,\u001b[0m \u001b[0mX_train_zeros_cat\u001b[0m\u001b[0;34m,\u001b[0m \u001b[0my_train\u001b[0m\u001b[0;34m)\u001b[0m\u001b[0;31m#модель с нулями вместо пустых значений\u001b[0m\u001b[0;34m\u001b[0m\u001b[0m\n\u001b[1;32m      9\u001b[0m     \u001b[0mmodels_zeros\u001b[0m\u001b[0;34m.\u001b[0m\u001b[0mappend\u001b[0m\u001b[0;34m(\u001b[0m\u001b[0mmodel2\u001b[0m\u001b[0;34m)\u001b[0m\u001b[0;34m\u001b[0m\u001b[0m\n",
      "\u001b[0;32m<ipython-input-12-5f169ec6e3a8>\u001b[0m in \u001b[0;36mgboost\u001b[0;34m(n_algos, X_train, y_train)\u001b[0m\n\u001b[1;32m     13\u001b[0m     \u001b[0;32mfor\u001b[0m \u001b[0mi\u001b[0m \u001b[0;32min\u001b[0m \u001b[0mnp\u001b[0m\u001b[0;34m.\u001b[0m\u001b[0marange\u001b[0m\u001b[0;34m(\u001b[0m\u001b[0;36m0\u001b[0m\u001b[0;34m,\u001b[0m \u001b[0mn_algos\u001b[0m\u001b[0;34m)\u001b[0m\u001b[0;34m:\u001b[0m\u001b[0;34m\u001b[0m\u001b[0m\n\u001b[1;32m     14\u001b[0m         \u001b[0mregressor\u001b[0m \u001b[0;34m=\u001b[0m \u001b[0mlinear_model\u001b[0m\u001b[0;34m.\u001b[0m\u001b[0mLasso\u001b[0m\u001b[0;34m(\u001b[0m\u001b[0malpha\u001b[0m \u001b[0;34m=\u001b[0m \u001b[0;36m100\u001b[0m\u001b[0;34m)\u001b[0m\u001b[0;34m\u001b[0m\u001b[0m\n\u001b[0;32m---> 15\u001b[0;31m         \u001b[0mregressor\u001b[0m\u001b[0;34m.\u001b[0m\u001b[0mfit\u001b[0m\u001b[0;34m(\u001b[0m\u001b[0mX_train\u001b[0m\u001b[0;34m,\u001b[0m \u001b[0manswers\u001b[0m\u001b[0;34m)\u001b[0m\u001b[0;34m\u001b[0m\u001b[0m\n\u001b[0m\u001b[1;32m     16\u001b[0m         \u001b[0malgos\u001b[0m\u001b[0;34m.\u001b[0m\u001b[0mappend\u001b[0m\u001b[0;34m(\u001b[0m\u001b[0mregressor\u001b[0m\u001b[0;34m)\u001b[0m\u001b[0;34m\u001b[0m\u001b[0m\n\u001b[1;32m     17\u001b[0m         \u001b[0mcoefs\u001b[0m\u001b[0;34m.\u001b[0m\u001b[0mappend\u001b[0m\u001b[0;34m(\u001b[0m \u001b[0;36m0.9\u001b[0m \u001b[0;34m/\u001b[0m \u001b[0;34m(\u001b[0m\u001b[0;36m1.0\u001b[0m \u001b[0;34m+\u001b[0m \u001b[0mi\u001b[0m\u001b[0;34m)\u001b[0m \u001b[0;34m)\u001b[0m\u001b[0;34m\u001b[0m\u001b[0m\n",
      "\u001b[0;32m/home/stepan/.local/lib/python2.7/site-packages/sklearn/linear_model/coordinate_descent.pyc\u001b[0m in \u001b[0;36mfit\u001b[0;34m(self, X, y, check_input)\u001b[0m\n\u001b[1;32m    725\u001b[0m                           \u001b[0mrandom_state\u001b[0m\u001b[0;34m=\u001b[0m\u001b[0mself\u001b[0m\u001b[0;34m.\u001b[0m\u001b[0mrandom_state\u001b[0m\u001b[0;34m,\u001b[0m\u001b[0;34m\u001b[0m\u001b[0m\n\u001b[1;32m    726\u001b[0m                           \u001b[0mselection\u001b[0m\u001b[0;34m=\u001b[0m\u001b[0mself\u001b[0m\u001b[0;34m.\u001b[0m\u001b[0mselection\u001b[0m\u001b[0;34m,\u001b[0m\u001b[0;34m\u001b[0m\u001b[0m\n\u001b[0;32m--> 727\u001b[0;31m                           check_input=False)\n\u001b[0m\u001b[1;32m    728\u001b[0m             \u001b[0mcoef_\u001b[0m\u001b[0;34m[\u001b[0m\u001b[0mk\u001b[0m\u001b[0;34m]\u001b[0m \u001b[0;34m=\u001b[0m \u001b[0mthis_coef\u001b[0m\u001b[0;34m[\u001b[0m\u001b[0;34m:\u001b[0m\u001b[0;34m,\u001b[0m \u001b[0;36m0\u001b[0m\u001b[0;34m]\u001b[0m\u001b[0;34m\u001b[0m\u001b[0m\n\u001b[1;32m    729\u001b[0m             \u001b[0mdual_gaps_\u001b[0m\u001b[0;34m[\u001b[0m\u001b[0mk\u001b[0m\u001b[0;34m]\u001b[0m \u001b[0;34m=\u001b[0m \u001b[0mthis_dual_gap\u001b[0m\u001b[0;34m[\u001b[0m\u001b[0;36m0\u001b[0m\u001b[0;34m]\u001b[0m\u001b[0;34m\u001b[0m\u001b[0m\n",
      "\u001b[0;32m/home/stepan/.local/lib/python2.7/site-packages/sklearn/linear_model/coordinate_descent.pyc\u001b[0m in \u001b[0;36menet_path\u001b[0;34m(X, y, l1_ratio, eps, n_alphas, alphas, precompute, Xy, copy_X, coef_init, verbose, return_n_iter, positive, check_input, **params)\u001b[0m\n\u001b[1;32m    468\u001b[0m             model = cd_fast.enet_coordinate_descent(\n\u001b[1;32m    469\u001b[0m                 \u001b[0mcoef_\u001b[0m\u001b[0;34m,\u001b[0m \u001b[0ml1_reg\u001b[0m\u001b[0;34m,\u001b[0m \u001b[0ml2_reg\u001b[0m\u001b[0;34m,\u001b[0m \u001b[0mX\u001b[0m\u001b[0;34m,\u001b[0m \u001b[0my\u001b[0m\u001b[0;34m,\u001b[0m \u001b[0mmax_iter\u001b[0m\u001b[0;34m,\u001b[0m \u001b[0mtol\u001b[0m\u001b[0;34m,\u001b[0m \u001b[0mrng\u001b[0m\u001b[0;34m,\u001b[0m \u001b[0mrandom\u001b[0m\u001b[0;34m,\u001b[0m\u001b[0;34m\u001b[0m\u001b[0m\n\u001b[0;32m--> 470\u001b[0;31m                 positive)\n\u001b[0m\u001b[1;32m    471\u001b[0m         \u001b[0;32melse\u001b[0m\u001b[0;34m:\u001b[0m\u001b[0;34m\u001b[0m\u001b[0m\n\u001b[1;32m    472\u001b[0m             raise ValueError(\"Precompute should be one of True, False, \"\n",
      "\u001b[0;31mKeyboardInterrupt\u001b[0m: "
     ]
    }
   ],
   "source": [
    "#обучим набор композиций с разными параметрами - видим, что с увеличением числа алгоритмов типа Lasso растет ошибка, где Lasso - это \n",
    "#простая регрессионная модель,которая подбирает параметры методом градиентного спуска, дополнительно имеет сумму модулей \n",
    "# полученных коэффициентов для сдерживания модели от переобучения при подсчете ошибки на каждой итерации градиентного\n",
    "#спуска. Заметив тенденцию роста ошибки, опыт остановил - интерпретатор выдал ошибку (не пугайтесь)\n",
    "#Хочу заметить, что градиентный бустинг, написанный мной, работает исключительно с первыми производными - будем улучшать\n",
    "models_zeros = [] #список моделей с разными параметрами\n",
    "models_means = [] #список моделей с разными параметрами\n",
    "n_algos = [20, 35, 50, 65, 80, 100]\n",
    "\n",
    "for n in n_algos:\n",
    "    model1 = gboost(n, X_train_means_cat, y_train)#модель со средними вместо пустых значений\n",
    "    model2 = gboost(n, X_train_zeros_cat, y_train)#модель с нулями вместо пустых значений\n",
    "    models_zeros.append(model2)\n",
    "    models_means.append(model1)\n",
    "    predict1 = gbm_predict(X_test_means_cat, model1[0], model1[1])\n",
    "    predict2 = gbm_predict(X_test_zeros_cat, model2[0], model2[1])\n",
    "    print 'n - ' + str(n) + '\\n'\n",
    "    print (metrics.mean_squared_error(y_test, predict1)) ** 0.5\n",
    "    print (metrics.mean_squared_error(y_test, predict2)) ** 0.5\n",
    "    print '\\n'\n",
    "%time   "
   ]
  },
  {
   "cell_type": "code",
   "execution_count": null,
   "metadata": {
    "collapsed": true,
    "deletable": true,
    "editable": true
   },
   "outputs": [],
   "source": []
  },
  {
   "cell_type": "code",
   "execution_count": null,
   "metadata": {
    "collapsed": false,
    "deletable": true,
    "editable": true
   },
   "outputs": [],
   "source": []
  },
  {
   "cell_type": "code",
   "execution_count": null,
   "metadata": {
    "collapsed": false,
    "deletable": true,
    "editable": true
   },
   "outputs": [],
   "source": [
    "\n"
   ]
  },
  {
   "cell_type": "code",
   "execution_count": 28,
   "metadata": {
    "collapsed": true,
    "deletable": true,
    "editable": true
   },
   "outputs": [],
   "source": [
    "predict_zeros = gbm_predict(X_zeros_cat, models_zeros[0][0], models_zeros[0][1])\n",
    "predict_means = gbm_predict(X_means_cat, models_means[0][0], models_means[0][1])"
   ]
  },
  {
   "cell_type": "code",
   "execution_count": 29,
   "metadata": {
    "collapsed": false,
    "deletable": true,
    "editable": true
   },
   "outputs": [],
   "source": [
    "write_answer(predict_zeros, '_zeros')\n",
    "write_answer(predict_means, '_means')"
   ]
  },
  {
   "cell_type": "code",
   "execution_count": 44,
   "metadata": {
    "collapsed": false,
    "deletable": true,
    "editable": true
   },
   "outputs": [
    {
     "name": "stdout",
     "output_type": "stream",
     "text": [
      "n - 20\n",
      "\n",
      "35240.0207046\n",
      "\n",
      "\n",
      "n - 35\n",
      "\n",
      "31272.1506423\n",
      "\n",
      "\n",
      "n - 50\n",
      "\n",
      "32013.0315852\n",
      "\n",
      "\n",
      "n - 65\n",
      "\n",
      "30830.2964022\n",
      "\n",
      "\n",
      "n - 80\n",
      "\n",
      "30696.711738\n",
      "\n",
      "\n",
      "n - 100\n",
      "\n",
      "30876.3205929\n",
      "\n",
      "\n"
     ]
    }
   ],
   "source": [
    "#прежде чем самим улучшить рукописный градиентный бустинг посмотрим на качество реализации бустинга из sklearn\n",
    "gb_models = []\n",
    "for n in n_algos:\n",
    "    gb_model = GradientBoostingRegressor(n_estimators=n)\n",
    "    gb_model.fit(X_train_means_cat, y_train)\n",
    "    gb_models.append(gb_model)\n",
    "    predict = gb_model.predict(X_test_means_cat)\n",
    "    print 'n - ' + str(n) + '\\n'\n",
    "    print (metrics.mean_squared_error(y_test, predict)) ** 0.5\n",
    "    print '\\n'"
   ]
  },
  {
   "cell_type": "code",
   "execution_count": 45,
   "metadata": {
    "collapsed": true
   },
   "outputs": [],
   "source": [
    "predict_result = gb_models[4].predict(X_means_cat)\n",
    "write_answer(predict_result, '_means1')"
   ]
  },
  {
   "cell_type": "code",
   "execution_count": null,
   "metadata": {
    "collapsed": true
   },
   "outputs": [],
   "source": []
  }
 ],
 "metadata": {
  "kernelspec": {
   "display_name": "Python 2",
   "language": "python",
   "name": "python2"
  },
  "language_info": {
   "codemirror_mode": {
    "name": "ipython",
    "version": 2
   },
   "file_extension": ".py",
   "mimetype": "text/x-python",
   "name": "python",
   "nbconvert_exporter": "python",
   "pygments_lexer": "ipython2",
   "version": "2.7.12"
  }
 },
 "nbformat": 4,
 "nbformat_minor": 2
}
